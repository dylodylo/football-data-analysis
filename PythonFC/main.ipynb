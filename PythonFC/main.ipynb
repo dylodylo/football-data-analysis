{
 "nbformat": 4,
 "nbformat_minor": 2,
 "metadata": {
  "language_info": {
   "name": "python",
   "codemirror_mode": {
    "name": "ipython",
    "version": 3
   },
   "version": "3.6.9-final"
  },
  "orig_nbformat": 2,
  "file_extension": ".py",
  "mimetype": "text/x-python",
  "name": "python",
  "npconvert_exporter": "python",
  "pygments_lexer": "ipython3",
  "version": 3,
  "kernelspec": {
   "name": "python36964bitvenvvenv48e1e5e9e1084b29808cd0a7cc20e0c1",
   "display_name": "Python 3.6.9 64-bit ('venv': venv)"
  }
 },
 "cells": [
  {
   "cell_type": "code",
   "execution_count": 1,
   "metadata": {},
   "outputs": [
    {
     "output_type": "stream",
     "name": "stdout",
     "text": "['Buerki' 'Hitz' 'Oelschlaegel' 'Unbehaun']\n"
    }
   ],
   "source": [
    "import numpy as np\n",
    "\n",
    "GKNames = [\"Buerki\",\"Hitz\",\"Oelschlaegel\",\"Unbehaun\"]\n",
    "GKHeights = [187,193,193,186]\n",
    "GKWeights = [85,86,87,82]\n",
    "\n",
    "print(np.array(GKNames))"
   ]
  },
  {
   "cell_type": "code",
   "execution_count": 2,
   "metadata": {},
   "outputs": [
    {
     "output_type": "stream",
     "name": "stdout",
     "text": "[['Buerki' 'Hitz' 'Oelschlaegel' 'Unbehaun']\n ['187' '193' '193' '186']\n ['85' '86' '87' '82']]\n"
    }
   ],
   "source": [
    "GKMatrix = [GKNames, GKHeights, GKWeights]\n",
    "print(np.array(GKMatrix))"
   ]
  },
  {
   "cell_type": "code",
   "execution_count": 4,
   "metadata": {},
   "outputs": [
    {
     "output_type": "execute_result",
     "data": {
      "text/plain": "193"
     },
     "metadata": {},
     "execution_count": 4
    }
   ],
   "source": [
    "np.array(GKNames)\n",
    "GKHeights = np.array(GKHeights)\n",
    "GKHeights.max() "
   ]
  },
  {
   "cell_type": "code",
   "execution_count": 5,
   "metadata": {},
   "outputs": [
    {
     "output_type": "execute_result",
     "data": {
      "text/plain": "1"
     },
     "metadata": {},
     "execution_count": 5
    }
   ],
   "source": [
    "GKHeights.argmax()"
   ]
  },
  {
   "cell_type": "code",
   "execution_count": null,
   "metadata": {},
   "outputs": [],
   "source": [
    "GKHeights[GKHeights.argmax()]"
   ]
  }
 ]
}