{
 "nbformat": 4,
 "nbformat_minor": 2,
 "metadata": {
  "language_info": {
   "name": "python",
   "codemirror_mode": {
    "name": "ipython",
    "version": 3
   },
   "version": "3.6.9-final"
  },
  "orig_nbformat": 2,
  "file_extension": ".py",
  "mimetype": "text/x-python",
  "name": "python",
  "npconvert_exporter": "python",
  "pygments_lexer": "ipython3",
  "version": 3,
  "kernelspec": {
   "name": "python36964bitvenvvenv48e1e5e9e1084b29808cd0a7cc20e0c1",
   "display_name": "Python 3.6.9 64-bit ('venv': venv)"
  }
 },
 "cells": [
  {
   "cell_type": "code",
   "execution_count": 1,
   "metadata": {},
   "outputs": [
    {
     "output_type": "stream",
     "name": "stdout",
     "text": "['Buerki' 'Hitz' 'Oelschlaegel' 'Unbehaun']\n"
    }
   ],
   "source": [
    "import numpy as np\n",
    "\n",
    "GKNames = [\"Buerki\",\"Hitz\",\"Oelschlaegel\",\"Unbehaun\"]\n",
    "GKHeights = [187,193,193,186] \n",
    "GKWeights = [85,86,87,82]\n",
    "\n",
    "print(np.array(GKNames))"
   ]
  },
  {
   "cell_type": "code",
   "execution_count": 2,
   "metadata": {},
   "outputs": [
    {
     "output_type": "stream",
     "name": "stdout",
     "text": "[['Buerki' 'Hitz' 'Oelschlaegel' 'Unbehaun']\n ['187' '193' '193' '186']\n ['85' '86' '87' '82']]\n"
    }
   ],
   "source": [
    "GKMatrix = [GKNames, GKHeights, GKWeights]\n",
    "print(np.array(GKMatrix))"
   ]
  },
  {
   "cell_type": "code",
   "execution_count": 3,
   "metadata": {},
   "outputs": [
    {
     "output_type": "execute_result",
     "data": {
      "text/plain": "193"
     },
     "metadata": {},
     "execution_count": 3
    }
   ],
   "source": [
    "np.array(GKNames)\n",
    "GKHeights = np.array(GKHeights)\n",
    "GKHeights.max() "
   ]
  },
  {
   "cell_type": "code",
   "execution_count": 4,
   "metadata": {},
   "outputs": [
    {
     "output_type": "execute_result",
     "data": {
      "text/plain": "1"
     },
     "metadata": {},
     "execution_count": 4
    }
   ],
   "source": [
    "GKHeights.argmax()"
   ]
  },
  {
   "cell_type": "code",
   "execution_count": 5,
   "metadata": {},
   "outputs": [
    {
     "output_type": "execute_result",
     "data": {
      "text/plain": "'Hitz'"
     },
     "metadata": {},
     "execution_count": 5
    }
   ],
   "source": [
    "GKNames[GKHeights.argmax()]"
   ]
  },
  {
   "cell_type": "code",
   "execution_count": 6,
   "metadata": {},
   "outputs": [
    {
     "output_type": "execute_result",
     "data": {
      "text/plain": "         Date        HomeTeam    AwayTeam     Referee  HF  AF  TF  HY  AY  TY  \\\n0  13/08/2016         Burnley     Swansea      J Moss  10  14  24   3   2   5   \n1  13/08/2016  Crystal Palace   West Brom    C Pawson  12  15  27   2   2   4   \n2  13/08/2016         Everton   Tottenham  M Atkinson  10  14  24   0   0   0   \n3  13/08/2016            Hull   Leicester      M Dean   8  17  25   2   2   4   \n4  13/08/2016        Man City  Sunderland    R Madley  11  14  25   1   2   3   \n\n   HR  AR  TR  \n0   0   0   0  \n1   0   0   0  \n2   0   0   0  \n3   0   0   0  \n4   0   0   0  ",
      "text/html": "<div>\n<style scoped>\n    .dataframe tbody tr th:only-of-type {\n        vertical-align: middle;\n    }\n\n    .dataframe tbody tr th {\n        vertical-align: top;\n    }\n\n    .dataframe thead th {\n        text-align: right;\n    }\n</style>\n<table border=\"1\" class=\"dataframe\">\n  <thead>\n    <tr style=\"text-align: right;\">\n      <th></th>\n      <th>Date</th>\n      <th>HomeTeam</th>\n      <th>AwayTeam</th>\n      <th>Referee</th>\n      <th>HF</th>\n      <th>AF</th>\n      <th>TF</th>\n      <th>HY</th>\n      <th>AY</th>\n      <th>TY</th>\n      <th>HR</th>\n      <th>AR</th>\n      <th>TR</th>\n    </tr>\n  </thead>\n  <tbody>\n    <tr>\n      <th>0</th>\n      <td>13/08/2016</td>\n      <td>Burnley</td>\n      <td>Swansea</td>\n      <td>J Moss</td>\n      <td>10</td>\n      <td>14</td>\n      <td>24</td>\n      <td>3</td>\n      <td>2</td>\n      <td>5</td>\n      <td>0</td>\n      <td>0</td>\n      <td>0</td>\n    </tr>\n    <tr>\n      <th>1</th>\n      <td>13/08/2016</td>\n      <td>Crystal Palace</td>\n      <td>West Brom</td>\n      <td>C Pawson</td>\n      <td>12</td>\n      <td>15</td>\n      <td>27</td>\n      <td>2</td>\n      <td>2</td>\n      <td>4</td>\n      <td>0</td>\n      <td>0</td>\n      <td>0</td>\n    </tr>\n    <tr>\n      <th>2</th>\n      <td>13/08/2016</td>\n      <td>Everton</td>\n      <td>Tottenham</td>\n      <td>M Atkinson</td>\n      <td>10</td>\n      <td>14</td>\n      <td>24</td>\n      <td>0</td>\n      <td>0</td>\n      <td>0</td>\n      <td>0</td>\n      <td>0</td>\n      <td>0</td>\n    </tr>\n    <tr>\n      <th>3</th>\n      <td>13/08/2016</td>\n      <td>Hull</td>\n      <td>Leicester</td>\n      <td>M Dean</td>\n      <td>8</td>\n      <td>17</td>\n      <td>25</td>\n      <td>2</td>\n      <td>2</td>\n      <td>4</td>\n      <td>0</td>\n      <td>0</td>\n      <td>0</td>\n    </tr>\n    <tr>\n      <th>4</th>\n      <td>13/08/2016</td>\n      <td>Man City</td>\n      <td>Sunderland</td>\n      <td>R Madley</td>\n      <td>11</td>\n      <td>14</td>\n      <td>25</td>\n      <td>1</td>\n      <td>2</td>\n      <td>3</td>\n      <td>0</td>\n      <td>0</td>\n      <td>0</td>\n    </tr>\n  </tbody>\n</table>\n</div>"
     },
     "metadata": {},
     "execution_count": 6
    }
   ],
   "source": [
    "import pandas as pd\n",
    "\n",
    "df = pd.read_csv(\"Data Store/Refs.csv\")\n",
    "\n",
    "df.head()"
   ]
  },
  {
   "cell_type": "code",
   "execution_count": 7,
   "metadata": {},
   "outputs": [
    {
     "output_type": "execute_result",
     "data": {
      "text/plain": "         Date        HomeTeam    AwayTeam     Referee  HomeFouls  AwayFouls  \\\n0  13/08/2016         Burnley     Swansea      J Moss         10         14   \n1  13/08/2016  Crystal Palace   West Brom    C Pawson         12         15   \n2  13/08/2016         Everton   Tottenham  M Atkinson         10         14   \n3  13/08/2016            Hull   Leicester      M Dean          8         17   \n4  13/08/2016        Man City  Sunderland    R Madley         11         14   \n\n   TotalFouls  HomeYellows  AwayYellows  TotalYellows  HomeReds  AwayReds  \\\n0          24            3            2             5         0         0   \n1          27            2            2             4         0         0   \n2          24            0            0             0         0         0   \n3          25            2            2             4         0         0   \n4          25            1            2             3         0         0   \n\n   TotalReds  \n0          0  \n1          0  \n2          0  \n3          0  \n4          0  ",
      "text/html": "<div>\n<style scoped>\n    .dataframe tbody tr th:only-of-type {\n        vertical-align: middle;\n    }\n\n    .dataframe tbody tr th {\n        vertical-align: top;\n    }\n\n    .dataframe thead th {\n        text-align: right;\n    }\n</style>\n<table border=\"1\" class=\"dataframe\">\n  <thead>\n    <tr style=\"text-align: right;\">\n      <th></th>\n      <th>Date</th>\n      <th>HomeTeam</th>\n      <th>AwayTeam</th>\n      <th>Referee</th>\n      <th>HomeFouls</th>\n      <th>AwayFouls</th>\n      <th>TotalFouls</th>\n      <th>HomeYellows</th>\n      <th>AwayYellows</th>\n      <th>TotalYellows</th>\n      <th>HomeReds</th>\n      <th>AwayReds</th>\n      <th>TotalReds</th>\n    </tr>\n  </thead>\n  <tbody>\n    <tr>\n      <th>0</th>\n      <td>13/08/2016</td>\n      <td>Burnley</td>\n      <td>Swansea</td>\n      <td>J Moss</td>\n      <td>10</td>\n      <td>14</td>\n      <td>24</td>\n      <td>3</td>\n      <td>2</td>\n      <td>5</td>\n      <td>0</td>\n      <td>0</td>\n      <td>0</td>\n    </tr>\n    <tr>\n      <th>1</th>\n      <td>13/08/2016</td>\n      <td>Crystal Palace</td>\n      <td>West Brom</td>\n      <td>C Pawson</td>\n      <td>12</td>\n      <td>15</td>\n      <td>27</td>\n      <td>2</td>\n      <td>2</td>\n      <td>4</td>\n      <td>0</td>\n      <td>0</td>\n      <td>0</td>\n    </tr>\n    <tr>\n      <th>2</th>\n      <td>13/08/2016</td>\n      <td>Everton</td>\n      <td>Tottenham</td>\n      <td>M Atkinson</td>\n      <td>10</td>\n      <td>14</td>\n      <td>24</td>\n      <td>0</td>\n      <td>0</td>\n      <td>0</td>\n      <td>0</td>\n      <td>0</td>\n      <td>0</td>\n    </tr>\n    <tr>\n      <th>3</th>\n      <td>13/08/2016</td>\n      <td>Hull</td>\n      <td>Leicester</td>\n      <td>M Dean</td>\n      <td>8</td>\n      <td>17</td>\n      <td>25</td>\n      <td>2</td>\n      <td>2</td>\n      <td>4</td>\n      <td>0</td>\n      <td>0</td>\n      <td>0</td>\n    </tr>\n    <tr>\n      <th>4</th>\n      <td>13/08/2016</td>\n      <td>Man City</td>\n      <td>Sunderland</td>\n      <td>R Madley</td>\n      <td>11</td>\n      <td>14</td>\n      <td>25</td>\n      <td>1</td>\n      <td>2</td>\n      <td>3</td>\n      <td>0</td>\n      <td>0</td>\n      <td>0</td>\n    </tr>\n  </tbody>\n</table>\n</div>"
     },
     "metadata": {},
     "execution_count": 7
    }
   ],
   "source": [
    "df.columns = ['Date','HomeTeam','AwayTeam','Referee',\"HomeFouls\",'AwayFouls','TotalFouls','HomeYellows','AwayYellows','TotalYellows','HomeReds','AwayReds', 'TotalReds']\n",
    "\n",
    "df.head()"
   ]
  },
  {
   "cell_type": "code",
   "execution_count": 8,
   "metadata": {},
   "outputs": [
    {
     "output_type": "execute_result",
     "data": {
      "text/plain": "        HomeFouls   AwayFouls  TotalFouls  HomeYellows  AwayYellows  \\\ncount  380.000000  380.000000  380.000000   380.000000   380.000000   \nmean    11.063158   11.657895   22.721053     1.744737     1.886842   \nstd      3.468853    3.556378    5.176166     1.256371     1.301647   \nmin      2.000000    3.000000    5.000000     0.000000     0.000000   \n25%      9.000000    9.000000   19.000000     1.000000     1.000000   \n50%     11.000000   12.000000   23.000000     2.000000     2.000000   \n75%     13.000000   14.000000   25.000000     3.000000     3.000000   \nmax     24.000000   24.000000   38.000000     6.000000     6.000000   \n\n       TotalYellows    HomeReds    AwayReds   TotalReds  \ncount    380.000000  380.000000  380.000000  380.000000  \nmean       3.631579    0.055263    0.052632    0.107895  \nstd        1.969705    0.240050    0.223591    0.319037  \nmin        0.000000    0.000000    0.000000    0.000000  \n25%        2.000000    0.000000    0.000000    0.000000  \n50%        4.000000    0.000000    0.000000    0.000000  \n75%        5.000000    0.000000    0.000000    0.000000  \nmax       11.000000    2.000000    1.000000    2.000000  ",
      "text/html": "<div>\n<style scoped>\n    .dataframe tbody tr th:only-of-type {\n        vertical-align: middle;\n    }\n\n    .dataframe tbody tr th {\n        vertical-align: top;\n    }\n\n    .dataframe thead th {\n        text-align: right;\n    }\n</style>\n<table border=\"1\" class=\"dataframe\">\n  <thead>\n    <tr style=\"text-align: right;\">\n      <th></th>\n      <th>HomeFouls</th>\n      <th>AwayFouls</th>\n      <th>TotalFouls</th>\n      <th>HomeYellows</th>\n      <th>AwayYellows</th>\n      <th>TotalYellows</th>\n      <th>HomeReds</th>\n      <th>AwayReds</th>\n      <th>TotalReds</th>\n    </tr>\n  </thead>\n  <tbody>\n    <tr>\n      <th>count</th>\n      <td>380.000000</td>\n      <td>380.000000</td>\n      <td>380.000000</td>\n      <td>380.000000</td>\n      <td>380.000000</td>\n      <td>380.000000</td>\n      <td>380.000000</td>\n      <td>380.000000</td>\n      <td>380.000000</td>\n    </tr>\n    <tr>\n      <th>mean</th>\n      <td>11.063158</td>\n      <td>11.657895</td>\n      <td>22.721053</td>\n      <td>1.744737</td>\n      <td>1.886842</td>\n      <td>3.631579</td>\n      <td>0.055263</td>\n      <td>0.052632</td>\n      <td>0.107895</td>\n    </tr>\n    <tr>\n      <th>std</th>\n      <td>3.468853</td>\n      <td>3.556378</td>\n      <td>5.176166</td>\n      <td>1.256371</td>\n      <td>1.301647</td>\n      <td>1.969705</td>\n      <td>0.240050</td>\n      <td>0.223591</td>\n      <td>0.319037</td>\n    </tr>\n    <tr>\n      <th>min</th>\n      <td>2.000000</td>\n      <td>3.000000</td>\n      <td>5.000000</td>\n      <td>0.000000</td>\n      <td>0.000000</td>\n      <td>0.000000</td>\n      <td>0.000000</td>\n      <td>0.000000</td>\n      <td>0.000000</td>\n    </tr>\n    <tr>\n      <th>25%</th>\n      <td>9.000000</td>\n      <td>9.000000</td>\n      <td>19.000000</td>\n      <td>1.000000</td>\n      <td>1.000000</td>\n      <td>2.000000</td>\n      <td>0.000000</td>\n      <td>0.000000</td>\n      <td>0.000000</td>\n    </tr>\n    <tr>\n      <th>50%</th>\n      <td>11.000000</td>\n      <td>12.000000</td>\n      <td>23.000000</td>\n      <td>2.000000</td>\n      <td>2.000000</td>\n      <td>4.000000</td>\n      <td>0.000000</td>\n      <td>0.000000</td>\n      <td>0.000000</td>\n    </tr>\n    <tr>\n      <th>75%</th>\n      <td>13.000000</td>\n      <td>14.000000</td>\n      <td>25.000000</td>\n      <td>3.000000</td>\n      <td>3.000000</td>\n      <td>5.000000</td>\n      <td>0.000000</td>\n      <td>0.000000</td>\n      <td>0.000000</td>\n    </tr>\n    <tr>\n      <th>max</th>\n      <td>24.000000</td>\n      <td>24.000000</td>\n      <td>38.000000</td>\n      <td>6.000000</td>\n      <td>6.000000</td>\n      <td>11.000000</td>\n      <td>2.000000</td>\n      <td>1.000000</td>\n      <td>2.000000</td>\n    </tr>\n  </tbody>\n</table>\n</div>"
     },
     "metadata": {},
     "execution_count": 8
    }
   ],
   "source": [
    "df.describe()"
   ]
  },
  {
   "cell_type": "code",
   "execution_count": 9,
   "metadata": {},
   "outputs": [
    {
     "output_type": "execute_result",
     "data": {
      "text/plain": "           Date        HomeTeam     AwayTeam     Referee  HomeFouls  \\\n0    13/08/2016         Burnley      Swansea      J Moss         10   \n1    13/08/2016  Crystal Palace    West Brom    C Pawson         12   \n2    13/08/2016         Everton    Tottenham  M Atkinson         10   \n3    13/08/2016            Hull    Leicester      M Dean          8   \n4    13/08/2016        Man City   Sunderland    R Madley         11   \n..          ...             ...          ...         ...        ...   \n308  08/04/2017       West Brom  Southampton  C Kavanagh         12   \n336  29/04/2017           Stoke     West Ham   L Probert         12   \n357  13/05/2017     Bournemouth      Burnley   L Probert          6   \n374  21/05/2017       Leicester  Bournemouth     l Mason         11   \n377  21/05/2017     Southampton        Stoke   L Probert         12   \n\n     AwayFouls  TotalFouls  HomeYellows  AwayYellows  TotalYellows  HomeReds  \\\n0           14          24            3            2             5         0   \n1           15          27            2            2             4         0   \n2           14          24            0            0             0         0   \n3           17          25            2            2             4         0   \n4           14          25            1            2             3         0   \n..         ...         ...          ...          ...           ...       ...   \n308         12          24            2            2             4         0   \n336          3          15            1            0             1         0   \n357         11          17            0            1             1         0   \n374         10          21            4            1             5         0   \n377         10          22            2            4             6         0   \n\n     AwayReds  TotalReds  \n0           0          0  \n1           0          0  \n2           0          0  \n3           0          0  \n4           0          0  \n..        ...        ...  \n308         0          0  \n336         0          0  \n357         0          0  \n374         0          0  \n377         0          0  \n\n[91 rows x 13 columns]",
      "text/html": "<div>\n<style scoped>\n    .dataframe tbody tr th:only-of-type {\n        vertical-align: middle;\n    }\n\n    .dataframe tbody tr th {\n        vertical-align: top;\n    }\n\n    .dataframe thead th {\n        text-align: right;\n    }\n</style>\n<table border=\"1\" class=\"dataframe\">\n  <thead>\n    <tr style=\"text-align: right;\">\n      <th></th>\n      <th>Date</th>\n      <th>HomeTeam</th>\n      <th>AwayTeam</th>\n      <th>Referee</th>\n      <th>HomeFouls</th>\n      <th>AwayFouls</th>\n      <th>TotalFouls</th>\n      <th>HomeYellows</th>\n      <th>AwayYellows</th>\n      <th>TotalYellows</th>\n      <th>HomeReds</th>\n      <th>AwayReds</th>\n      <th>TotalReds</th>\n    </tr>\n  </thead>\n  <tbody>\n    <tr>\n      <th>0</th>\n      <td>13/08/2016</td>\n      <td>Burnley</td>\n      <td>Swansea</td>\n      <td>J Moss</td>\n      <td>10</td>\n      <td>14</td>\n      <td>24</td>\n      <td>3</td>\n      <td>2</td>\n      <td>5</td>\n      <td>0</td>\n      <td>0</td>\n      <td>0</td>\n    </tr>\n    <tr>\n      <th>1</th>\n      <td>13/08/2016</td>\n      <td>Crystal Palace</td>\n      <td>West Brom</td>\n      <td>C Pawson</td>\n      <td>12</td>\n      <td>15</td>\n      <td>27</td>\n      <td>2</td>\n      <td>2</td>\n      <td>4</td>\n      <td>0</td>\n      <td>0</td>\n      <td>0</td>\n    </tr>\n    <tr>\n      <th>2</th>\n      <td>13/08/2016</td>\n      <td>Everton</td>\n      <td>Tottenham</td>\n      <td>M Atkinson</td>\n      <td>10</td>\n      <td>14</td>\n      <td>24</td>\n      <td>0</td>\n      <td>0</td>\n      <td>0</td>\n      <td>0</td>\n      <td>0</td>\n      <td>0</td>\n    </tr>\n    <tr>\n      <th>3</th>\n      <td>13/08/2016</td>\n      <td>Hull</td>\n      <td>Leicester</td>\n      <td>M Dean</td>\n      <td>8</td>\n      <td>17</td>\n      <td>25</td>\n      <td>2</td>\n      <td>2</td>\n      <td>4</td>\n      <td>0</td>\n      <td>0</td>\n      <td>0</td>\n    </tr>\n    <tr>\n      <th>4</th>\n      <td>13/08/2016</td>\n      <td>Man City</td>\n      <td>Sunderland</td>\n      <td>R Madley</td>\n      <td>11</td>\n      <td>14</td>\n      <td>25</td>\n      <td>1</td>\n      <td>2</td>\n      <td>3</td>\n      <td>0</td>\n      <td>0</td>\n      <td>0</td>\n    </tr>\n    <tr>\n      <th>...</th>\n      <td>...</td>\n      <td>...</td>\n      <td>...</td>\n      <td>...</td>\n      <td>...</td>\n      <td>...</td>\n      <td>...</td>\n      <td>...</td>\n      <td>...</td>\n      <td>...</td>\n      <td>...</td>\n      <td>...</td>\n      <td>...</td>\n    </tr>\n    <tr>\n      <th>308</th>\n      <td>08/04/2017</td>\n      <td>West Brom</td>\n      <td>Southampton</td>\n      <td>C Kavanagh</td>\n      <td>12</td>\n      <td>12</td>\n      <td>24</td>\n      <td>2</td>\n      <td>2</td>\n      <td>4</td>\n      <td>0</td>\n      <td>0</td>\n      <td>0</td>\n    </tr>\n    <tr>\n      <th>336</th>\n      <td>29/04/2017</td>\n      <td>Stoke</td>\n      <td>West Ham</td>\n      <td>L Probert</td>\n      <td>12</td>\n      <td>3</td>\n      <td>15</td>\n      <td>1</td>\n      <td>0</td>\n      <td>1</td>\n      <td>0</td>\n      <td>0</td>\n      <td>0</td>\n    </tr>\n    <tr>\n      <th>357</th>\n      <td>13/05/2017</td>\n      <td>Bournemouth</td>\n      <td>Burnley</td>\n      <td>L Probert</td>\n      <td>6</td>\n      <td>11</td>\n      <td>17</td>\n      <td>0</td>\n      <td>1</td>\n      <td>1</td>\n      <td>0</td>\n      <td>0</td>\n      <td>0</td>\n    </tr>\n    <tr>\n      <th>374</th>\n      <td>21/05/2017</td>\n      <td>Leicester</td>\n      <td>Bournemouth</td>\n      <td>l Mason</td>\n      <td>11</td>\n      <td>10</td>\n      <td>21</td>\n      <td>4</td>\n      <td>1</td>\n      <td>5</td>\n      <td>0</td>\n      <td>0</td>\n      <td>0</td>\n    </tr>\n    <tr>\n      <th>377</th>\n      <td>21/05/2017</td>\n      <td>Southampton</td>\n      <td>Stoke</td>\n      <td>L Probert</td>\n      <td>12</td>\n      <td>10</td>\n      <td>22</td>\n      <td>2</td>\n      <td>4</td>\n      <td>6</td>\n      <td>0</td>\n      <td>0</td>\n      <td>0</td>\n    </tr>\n  </tbody>\n</table>\n<p>91 rows × 13 columns</p>\n</div>"
     },
     "metadata": {},
     "execution_count": 9
    }
   ],
   "source": [
    "groupedRefs = df.groupby(\"Referee\")\n",
    "groupedRefs.head()"
   ]
  },
  {
   "cell_type": "code",
   "execution_count": 10,
   "metadata": {},
   "outputs": [
    {
     "output_type": "execute_result",
     "data": {
      "text/plain": "              HomeFouls                                                       \\\n                  count       mean       std   min    25%   50%    75%   max   \nReferee                                                                        \nA Marriner         28.0  10.392857  3.832988   5.0   8.00   9.5  14.00  20.0   \nA Taylor           30.0  12.300000  3.228643   5.0  10.25  12.0  14.75  19.0   \nC Kavanagh          1.0  12.000000       NaN  12.0  12.00  12.0  12.00  12.0   \nC Pawson           24.0  11.916667  4.373007   2.0   9.75  12.0  15.00  21.0   \nG Scott             8.0  10.625000  3.248626   4.0   9.50  12.0  12.25  14.0   \nJ Moss             30.0  11.600000  3.499754   5.0   9.00  12.0  14.00  20.0   \nK Friend           20.0  11.050000  3.940011   5.0   8.50  10.5  14.00  18.0   \nL Mason            19.0  10.263158  3.380370   5.0   8.00   9.0  13.00  17.0   \nL Probert           4.0  10.500000  3.000000   6.0  10.50  12.0  12.00  12.0   \nM Atkinson         27.0   9.851852  2.506970   5.0   8.50  10.0  11.50  14.0   \nM Clattenburg      22.0  11.090909  3.650298   5.0   8.00  11.5  13.75  18.0   \nM Dean             30.0  10.400000  3.499754   4.0   7.25  10.0  13.00  17.0   \nM Jones            18.0  12.722222  3.005985   8.0  11.00  12.5  14.00  20.0   \nM Oliver           33.0  10.818182  3.106994   5.0   8.00  11.0  13.00  19.0   \nN Swarbrick        24.0  10.125000  2.923852   5.0   8.75  10.0  11.25  16.0   \nP Tierney          10.0  10.900000  3.178050   5.0   9.25  11.5  13.00  15.0   \nR East             11.0  11.909091  3.477198   8.0   9.00  10.0  15.00  17.0   \nR Madley           30.0  11.733333  3.814070   5.0  10.00  11.0  12.00  24.0   \nS Attwell          10.0  10.100000  3.604010   3.0   7.50  11.0  12.75  14.0   \nl Mason             1.0  11.000000       NaN  11.0  11.00  11.0  11.00  11.0   \n\n              AwayFouls             ... AwayReds      TotalReds            \\\n                  count       mean  ...      75%  max     count      mean   \nReferee                             ...                                     \nA Marriner         28.0   9.857143  ...     0.00  1.0      28.0  0.071429   \nA Taylor           30.0  12.333333  ...     0.00  0.0      30.0  0.133333   \nC Kavanagh          1.0  12.000000  ...     0.00  0.0       1.0  0.000000   \nC Pawson           24.0  12.833333  ...     0.00  1.0      24.0  0.166667   \nG Scott             8.0  11.750000  ...     0.25  1.0       8.0  0.250000   \nJ Moss             30.0  11.733333  ...     0.00  0.0      30.0  0.100000   \nK Friend           20.0  12.750000  ...     0.00  1.0      20.0  0.050000   \nL Mason            19.0  10.842105  ...     0.00  1.0      19.0  0.157895   \nL Probert           4.0   8.000000  ...     0.00  0.0       4.0  0.000000   \nM Atkinson         27.0  11.851852  ...     0.00  1.0      27.0  0.111111   \nM Clattenburg      22.0   9.954545  ...     0.00  1.0      22.0  0.136364   \nM Dean             30.0  12.100000  ...     0.00  1.0      30.0  0.166667   \nM Jones            18.0  12.333333  ...     0.00  0.0      18.0  0.055556   \nM Oliver           33.0  10.787879  ...     0.00  1.0      33.0  0.090909   \nN Swarbrick        24.0  11.708333  ...     0.00  1.0      24.0  0.041667   \nP Tierney          10.0  12.200000  ...     0.00  1.0      10.0  0.200000   \nR East             11.0  12.090909  ...     0.00  1.0      11.0  0.181818   \nR Madley           30.0  13.433333  ...     0.00  0.0      30.0  0.066667   \nS Attwell          10.0   9.600000  ...     0.00  0.0      10.0  0.000000   \nl Mason             1.0  10.000000  ...     0.00  0.0       1.0  0.000000   \n\n                                                   \n                    std  min  25%  50%   75%  max  \nReferee                                            \nA Marriner     0.262265  0.0  0.0  0.0  0.00  1.0  \nA Taylor       0.434172  0.0  0.0  0.0  0.00  2.0  \nC Kavanagh          NaN  0.0  0.0  0.0  0.00  0.0  \nC Pawson       0.380693  0.0  0.0  0.0  0.00  1.0  \nG Scott        0.462910  0.0  0.0  0.0  0.25  1.0  \nJ Moss         0.305129  0.0  0.0  0.0  0.00  1.0  \nK Friend       0.223607  0.0  0.0  0.0  0.00  1.0  \nL Mason        0.374634  0.0  0.0  0.0  0.00  1.0  \nL Probert      0.000000  0.0  0.0  0.0  0.00  0.0  \nM Atkinson     0.320256  0.0  0.0  0.0  0.00  1.0  \nM Clattenburg  0.351250  0.0  0.0  0.0  0.00  1.0  \nM Dean         0.379049  0.0  0.0  0.0  0.00  1.0  \nM Jones        0.235702  0.0  0.0  0.0  0.00  1.0  \nM Oliver       0.291937  0.0  0.0  0.0  0.00  1.0  \nN Swarbrick    0.204124  0.0  0.0  0.0  0.00  1.0  \nP Tierney      0.421637  0.0  0.0  0.0  0.00  1.0  \nR East         0.404520  0.0  0.0  0.0  0.00  1.0  \nR Madley       0.253708  0.0  0.0  0.0  0.00  1.0  \nS Attwell      0.000000  0.0  0.0  0.0  0.00  0.0  \nl Mason             NaN  0.0  0.0  0.0  0.00  0.0  \n\n[20 rows x 72 columns]",
      "text/html": "<div>\n<style scoped>\n    .dataframe tbody tr th:only-of-type {\n        vertical-align: middle;\n    }\n\n    .dataframe tbody tr th {\n        vertical-align: top;\n    }\n\n    .dataframe thead tr th {\n        text-align: left;\n    }\n\n    .dataframe thead tr:last-of-type th {\n        text-align: right;\n    }\n</style>\n<table border=\"1\" class=\"dataframe\">\n  <thead>\n    <tr>\n      <th></th>\n      <th colspan=\"8\" halign=\"left\">HomeFouls</th>\n      <th colspan=\"2\" halign=\"left\">AwayFouls</th>\n      <th>...</th>\n      <th colspan=\"2\" halign=\"left\">AwayReds</th>\n      <th colspan=\"8\" halign=\"left\">TotalReds</th>\n    </tr>\n    <tr>\n      <th></th>\n      <th>count</th>\n      <th>mean</th>\n      <th>std</th>\n      <th>min</th>\n      <th>25%</th>\n      <th>50%</th>\n      <th>75%</th>\n      <th>max</th>\n      <th>count</th>\n      <th>mean</th>\n      <th>...</th>\n      <th>75%</th>\n      <th>max</th>\n      <th>count</th>\n      <th>mean</th>\n      <th>std</th>\n      <th>min</th>\n      <th>25%</th>\n      <th>50%</th>\n      <th>75%</th>\n      <th>max</th>\n    </tr>\n    <tr>\n      <th>Referee</th>\n      <th></th>\n      <th></th>\n      <th></th>\n      <th></th>\n      <th></th>\n      <th></th>\n      <th></th>\n      <th></th>\n      <th></th>\n      <th></th>\n      <th></th>\n      <th></th>\n      <th></th>\n      <th></th>\n      <th></th>\n      <th></th>\n      <th></th>\n      <th></th>\n      <th></th>\n      <th></th>\n      <th></th>\n    </tr>\n  </thead>\n  <tbody>\n    <tr>\n      <th>A Marriner</th>\n      <td>28.0</td>\n      <td>10.392857</td>\n      <td>3.832988</td>\n      <td>5.0</td>\n      <td>8.00</td>\n      <td>9.5</td>\n      <td>14.00</td>\n      <td>20.0</td>\n      <td>28.0</td>\n      <td>9.857143</td>\n      <td>...</td>\n      <td>0.00</td>\n      <td>1.0</td>\n      <td>28.0</td>\n      <td>0.071429</td>\n      <td>0.262265</td>\n      <td>0.0</td>\n      <td>0.0</td>\n      <td>0.0</td>\n      <td>0.00</td>\n      <td>1.0</td>\n    </tr>\n    <tr>\n      <th>A Taylor</th>\n      <td>30.0</td>\n      <td>12.300000</td>\n      <td>3.228643</td>\n      <td>5.0</td>\n      <td>10.25</td>\n      <td>12.0</td>\n      <td>14.75</td>\n      <td>19.0</td>\n      <td>30.0</td>\n      <td>12.333333</td>\n      <td>...</td>\n      <td>0.00</td>\n      <td>0.0</td>\n      <td>30.0</td>\n      <td>0.133333</td>\n      <td>0.434172</td>\n      <td>0.0</td>\n      <td>0.0</td>\n      <td>0.0</td>\n      <td>0.00</td>\n      <td>2.0</td>\n    </tr>\n    <tr>\n      <th>C Kavanagh</th>\n      <td>1.0</td>\n      <td>12.000000</td>\n      <td>NaN</td>\n      <td>12.0</td>\n      <td>12.00</td>\n      <td>12.0</td>\n      <td>12.00</td>\n      <td>12.0</td>\n      <td>1.0</td>\n      <td>12.000000</td>\n      <td>...</td>\n      <td>0.00</td>\n      <td>0.0</td>\n      <td>1.0</td>\n      <td>0.000000</td>\n      <td>NaN</td>\n      <td>0.0</td>\n      <td>0.0</td>\n      <td>0.0</td>\n      <td>0.00</td>\n      <td>0.0</td>\n    </tr>\n    <tr>\n      <th>C Pawson</th>\n      <td>24.0</td>\n      <td>11.916667</td>\n      <td>4.373007</td>\n      <td>2.0</td>\n      <td>9.75</td>\n      <td>12.0</td>\n      <td>15.00</td>\n      <td>21.0</td>\n      <td>24.0</td>\n      <td>12.833333</td>\n      <td>...</td>\n      <td>0.00</td>\n      <td>1.0</td>\n      <td>24.0</td>\n      <td>0.166667</td>\n      <td>0.380693</td>\n      <td>0.0</td>\n      <td>0.0</td>\n      <td>0.0</td>\n      <td>0.00</td>\n      <td>1.0</td>\n    </tr>\n    <tr>\n      <th>G Scott</th>\n      <td>8.0</td>\n      <td>10.625000</td>\n      <td>3.248626</td>\n      <td>4.0</td>\n      <td>9.50</td>\n      <td>12.0</td>\n      <td>12.25</td>\n      <td>14.0</td>\n      <td>8.0</td>\n      <td>11.750000</td>\n      <td>...</td>\n      <td>0.25</td>\n      <td>1.0</td>\n      <td>8.0</td>\n      <td>0.250000</td>\n      <td>0.462910</td>\n      <td>0.0</td>\n      <td>0.0</td>\n      <td>0.0</td>\n      <td>0.25</td>\n      <td>1.0</td>\n    </tr>\n    <tr>\n      <th>J Moss</th>\n      <td>30.0</td>\n      <td>11.600000</td>\n      <td>3.499754</td>\n      <td>5.0</td>\n      <td>9.00</td>\n      <td>12.0</td>\n      <td>14.00</td>\n      <td>20.0</td>\n      <td>30.0</td>\n      <td>11.733333</td>\n      <td>...</td>\n      <td>0.00</td>\n      <td>0.0</td>\n      <td>30.0</td>\n      <td>0.100000</td>\n      <td>0.305129</td>\n      <td>0.0</td>\n      <td>0.0</td>\n      <td>0.0</td>\n      <td>0.00</td>\n      <td>1.0</td>\n    </tr>\n    <tr>\n      <th>K Friend</th>\n      <td>20.0</td>\n      <td>11.050000</td>\n      <td>3.940011</td>\n      <td>5.0</td>\n      <td>8.50</td>\n      <td>10.5</td>\n      <td>14.00</td>\n      <td>18.0</td>\n      <td>20.0</td>\n      <td>12.750000</td>\n      <td>...</td>\n      <td>0.00</td>\n      <td>1.0</td>\n      <td>20.0</td>\n      <td>0.050000</td>\n      <td>0.223607</td>\n      <td>0.0</td>\n      <td>0.0</td>\n      <td>0.0</td>\n      <td>0.00</td>\n      <td>1.0</td>\n    </tr>\n    <tr>\n      <th>L Mason</th>\n      <td>19.0</td>\n      <td>10.263158</td>\n      <td>3.380370</td>\n      <td>5.0</td>\n      <td>8.00</td>\n      <td>9.0</td>\n      <td>13.00</td>\n      <td>17.0</td>\n      <td>19.0</td>\n      <td>10.842105</td>\n      <td>...</td>\n      <td>0.00</td>\n      <td>1.0</td>\n      <td>19.0</td>\n      <td>0.157895</td>\n      <td>0.374634</td>\n      <td>0.0</td>\n      <td>0.0</td>\n      <td>0.0</td>\n      <td>0.00</td>\n      <td>1.0</td>\n    </tr>\n    <tr>\n      <th>L Probert</th>\n      <td>4.0</td>\n      <td>10.500000</td>\n      <td>3.000000</td>\n      <td>6.0</td>\n      <td>10.50</td>\n      <td>12.0</td>\n      <td>12.00</td>\n      <td>12.0</td>\n      <td>4.0</td>\n      <td>8.000000</td>\n      <td>...</td>\n      <td>0.00</td>\n      <td>0.0</td>\n      <td>4.0</td>\n      <td>0.000000</td>\n      <td>0.000000</td>\n      <td>0.0</td>\n      <td>0.0</td>\n      <td>0.0</td>\n      <td>0.00</td>\n      <td>0.0</td>\n    </tr>\n    <tr>\n      <th>M Atkinson</th>\n      <td>27.0</td>\n      <td>9.851852</td>\n      <td>2.506970</td>\n      <td>5.0</td>\n      <td>8.50</td>\n      <td>10.0</td>\n      <td>11.50</td>\n      <td>14.0</td>\n      <td>27.0</td>\n      <td>11.851852</td>\n      <td>...</td>\n      <td>0.00</td>\n      <td>1.0</td>\n      <td>27.0</td>\n      <td>0.111111</td>\n      <td>0.320256</td>\n      <td>0.0</td>\n      <td>0.0</td>\n      <td>0.0</td>\n      <td>0.00</td>\n      <td>1.0</td>\n    </tr>\n    <tr>\n      <th>M Clattenburg</th>\n      <td>22.0</td>\n      <td>11.090909</td>\n      <td>3.650298</td>\n      <td>5.0</td>\n      <td>8.00</td>\n      <td>11.5</td>\n      <td>13.75</td>\n      <td>18.0</td>\n      <td>22.0</td>\n      <td>9.954545</td>\n      <td>...</td>\n      <td>0.00</td>\n      <td>1.0</td>\n      <td>22.0</td>\n      <td>0.136364</td>\n      <td>0.351250</td>\n      <td>0.0</td>\n      <td>0.0</td>\n      <td>0.0</td>\n      <td>0.00</td>\n      <td>1.0</td>\n    </tr>\n    <tr>\n      <th>M Dean</th>\n      <td>30.0</td>\n      <td>10.400000</td>\n      <td>3.499754</td>\n      <td>4.0</td>\n      <td>7.25</td>\n      <td>10.0</td>\n      <td>13.00</td>\n      <td>17.0</td>\n      <td>30.0</td>\n      <td>12.100000</td>\n      <td>...</td>\n      <td>0.00</td>\n      <td>1.0</td>\n      <td>30.0</td>\n      <td>0.166667</td>\n      <td>0.379049</td>\n      <td>0.0</td>\n      <td>0.0</td>\n      <td>0.0</td>\n      <td>0.00</td>\n      <td>1.0</td>\n    </tr>\n    <tr>\n      <th>M Jones</th>\n      <td>18.0</td>\n      <td>12.722222</td>\n      <td>3.005985</td>\n      <td>8.0</td>\n      <td>11.00</td>\n      <td>12.5</td>\n      <td>14.00</td>\n      <td>20.0</td>\n      <td>18.0</td>\n      <td>12.333333</td>\n      <td>...</td>\n      <td>0.00</td>\n      <td>0.0</td>\n      <td>18.0</td>\n      <td>0.055556</td>\n      <td>0.235702</td>\n      <td>0.0</td>\n      <td>0.0</td>\n      <td>0.0</td>\n      <td>0.00</td>\n      <td>1.0</td>\n    </tr>\n    <tr>\n      <th>M Oliver</th>\n      <td>33.0</td>\n      <td>10.818182</td>\n      <td>3.106994</td>\n      <td>5.0</td>\n      <td>8.00</td>\n      <td>11.0</td>\n      <td>13.00</td>\n      <td>19.0</td>\n      <td>33.0</td>\n      <td>10.787879</td>\n      <td>...</td>\n      <td>0.00</td>\n      <td>1.0</td>\n      <td>33.0</td>\n      <td>0.090909</td>\n      <td>0.291937</td>\n      <td>0.0</td>\n      <td>0.0</td>\n      <td>0.0</td>\n      <td>0.00</td>\n      <td>1.0</td>\n    </tr>\n    <tr>\n      <th>N Swarbrick</th>\n      <td>24.0</td>\n      <td>10.125000</td>\n      <td>2.923852</td>\n      <td>5.0</td>\n      <td>8.75</td>\n      <td>10.0</td>\n      <td>11.25</td>\n      <td>16.0</td>\n      <td>24.0</td>\n      <td>11.708333</td>\n      <td>...</td>\n      <td>0.00</td>\n      <td>1.0</td>\n      <td>24.0</td>\n      <td>0.041667</td>\n      <td>0.204124</td>\n      <td>0.0</td>\n      <td>0.0</td>\n      <td>0.0</td>\n      <td>0.00</td>\n      <td>1.0</td>\n    </tr>\n    <tr>\n      <th>P Tierney</th>\n      <td>10.0</td>\n      <td>10.900000</td>\n      <td>3.178050</td>\n      <td>5.0</td>\n      <td>9.25</td>\n      <td>11.5</td>\n      <td>13.00</td>\n      <td>15.0</td>\n      <td>10.0</td>\n      <td>12.200000</td>\n      <td>...</td>\n      <td>0.00</td>\n      <td>1.0</td>\n      <td>10.0</td>\n      <td>0.200000</td>\n      <td>0.421637</td>\n      <td>0.0</td>\n      <td>0.0</td>\n      <td>0.0</td>\n      <td>0.00</td>\n      <td>1.0</td>\n    </tr>\n    <tr>\n      <th>R East</th>\n      <td>11.0</td>\n      <td>11.909091</td>\n      <td>3.477198</td>\n      <td>8.0</td>\n      <td>9.00</td>\n      <td>10.0</td>\n      <td>15.00</td>\n      <td>17.0</td>\n      <td>11.0</td>\n      <td>12.090909</td>\n      <td>...</td>\n      <td>0.00</td>\n      <td>1.0</td>\n      <td>11.0</td>\n      <td>0.181818</td>\n      <td>0.404520</td>\n      <td>0.0</td>\n      <td>0.0</td>\n      <td>0.0</td>\n      <td>0.00</td>\n      <td>1.0</td>\n    </tr>\n    <tr>\n      <th>R Madley</th>\n      <td>30.0</td>\n      <td>11.733333</td>\n      <td>3.814070</td>\n      <td>5.0</td>\n      <td>10.00</td>\n      <td>11.0</td>\n      <td>12.00</td>\n      <td>24.0</td>\n      <td>30.0</td>\n      <td>13.433333</td>\n      <td>...</td>\n      <td>0.00</td>\n      <td>0.0</td>\n      <td>30.0</td>\n      <td>0.066667</td>\n      <td>0.253708</td>\n      <td>0.0</td>\n      <td>0.0</td>\n      <td>0.0</td>\n      <td>0.00</td>\n      <td>1.0</td>\n    </tr>\n    <tr>\n      <th>S Attwell</th>\n      <td>10.0</td>\n      <td>10.100000</td>\n      <td>3.604010</td>\n      <td>3.0</td>\n      <td>7.50</td>\n      <td>11.0</td>\n      <td>12.75</td>\n      <td>14.0</td>\n      <td>10.0</td>\n      <td>9.600000</td>\n      <td>...</td>\n      <td>0.00</td>\n      <td>0.0</td>\n      <td>10.0</td>\n      <td>0.000000</td>\n      <td>0.000000</td>\n      <td>0.0</td>\n      <td>0.0</td>\n      <td>0.0</td>\n      <td>0.00</td>\n      <td>0.0</td>\n    </tr>\n    <tr>\n      <th>l Mason</th>\n      <td>1.0</td>\n      <td>11.000000</td>\n      <td>NaN</td>\n      <td>11.0</td>\n      <td>11.00</td>\n      <td>11.0</td>\n      <td>11.00</td>\n      <td>11.0</td>\n      <td>1.0</td>\n      <td>10.000000</td>\n      <td>...</td>\n      <td>0.00</td>\n      <td>0.0</td>\n      <td>1.0</td>\n      <td>0.000000</td>\n      <td>NaN</td>\n      <td>0.0</td>\n      <td>0.0</td>\n      <td>0.0</td>\n      <td>0.00</td>\n      <td>0.0</td>\n    </tr>\n  </tbody>\n</table>\n<p>20 rows × 72 columns</p>\n</div>"
     },
     "metadata": {},
     "execution_count": 10
    }
   ],
   "source": [
    "groupedRefs.describe()"
   ]
  },
  {
   "cell_type": "code",
   "execution_count": 11,
   "metadata": {},
   "outputs": [
    {
     "output_type": "execute_result",
     "data": {
      "text/plain": "               count      mean       std  min   25%  50%   75%   max\nReferee                                                             \nA Marriner      28.0  3.464286  2.081348  0.0  1.75  4.0  5.00   7.0\nA Taylor        30.0  3.966667  1.973677  0.0  3.00  4.0  5.00   8.0\nC Kavanagh       1.0  4.000000       NaN  4.0  4.00  4.0  4.00   4.0\nC Pawson        24.0  3.916667  2.339020  0.0  2.75  3.5  5.00  11.0\nG Scott          8.0  2.625000  1.187735  1.0  2.00  2.5  3.00   5.0\nJ Moss          30.0  3.966667  2.008316  1.0  2.25  4.0  5.00   9.0\nK Friend        20.0  4.700000  2.154555  1.0  3.00  4.5  6.00   9.0\nL Mason         19.0  3.526316  2.412201  0.0  2.00  3.0  5.50   8.0\nL Probert        4.0  3.000000  2.449490  1.0  1.00  2.5  4.50   6.0\nM Atkinson      27.0  3.222222  2.241794  0.0  1.50  3.0  4.50   8.0\nM Clattenburg   22.0  3.272727  1.608958  0.0  2.00  3.0  4.00   6.0\nM Dean          30.0  3.666667  1.768173  1.0  2.00  3.0  5.00   7.0\nM Jones         18.0  3.388889  2.173067  0.0  2.00  4.0  4.75   8.0\nM Oliver        33.0  3.333333  1.947220  0.0  2.00  3.0  5.00   7.0\nN Swarbrick     24.0  3.708333  1.398109  1.0  3.00  4.0  5.00   6.0\nP Tierney       10.0  2.900000  1.286684  1.0  2.00  3.0  3.00   5.0\nR East          11.0  3.272727  1.902152  0.0  2.00  3.0  5.00   6.0\nR Madley        30.0  4.133333  1.814374  1.0  3.00  4.0  5.75   8.0\nS Attwell       10.0  3.000000  1.943651  0.0  2.00  2.5  3.75   7.0\nl Mason          1.0  5.000000       NaN  5.0  5.00  5.0  5.00   5.0",
      "text/html": "<div>\n<style scoped>\n    .dataframe tbody tr th:only-of-type {\n        vertical-align: middle;\n    }\n\n    .dataframe tbody tr th {\n        vertical-align: top;\n    }\n\n    .dataframe thead th {\n        text-align: right;\n    }\n</style>\n<table border=\"1\" class=\"dataframe\">\n  <thead>\n    <tr style=\"text-align: right;\">\n      <th></th>\n      <th>count</th>\n      <th>mean</th>\n      <th>std</th>\n      <th>min</th>\n      <th>25%</th>\n      <th>50%</th>\n      <th>75%</th>\n      <th>max</th>\n    </tr>\n    <tr>\n      <th>Referee</th>\n      <th></th>\n      <th></th>\n      <th></th>\n      <th></th>\n      <th></th>\n      <th></th>\n      <th></th>\n      <th></th>\n    </tr>\n  </thead>\n  <tbody>\n    <tr>\n      <th>A Marriner</th>\n      <td>28.0</td>\n      <td>3.464286</td>\n      <td>2.081348</td>\n      <td>0.0</td>\n      <td>1.75</td>\n      <td>4.0</td>\n      <td>5.00</td>\n      <td>7.0</td>\n    </tr>\n    <tr>\n      <th>A Taylor</th>\n      <td>30.0</td>\n      <td>3.966667</td>\n      <td>1.973677</td>\n      <td>0.0</td>\n      <td>3.00</td>\n      <td>4.0</td>\n      <td>5.00</td>\n      <td>8.0</td>\n    </tr>\n    <tr>\n      <th>C Kavanagh</th>\n      <td>1.0</td>\n      <td>4.000000</td>\n      <td>NaN</td>\n      <td>4.0</td>\n      <td>4.00</td>\n      <td>4.0</td>\n      <td>4.00</td>\n      <td>4.0</td>\n    </tr>\n    <tr>\n      <th>C Pawson</th>\n      <td>24.0</td>\n      <td>3.916667</td>\n      <td>2.339020</td>\n      <td>0.0</td>\n      <td>2.75</td>\n      <td>3.5</td>\n      <td>5.00</td>\n      <td>11.0</td>\n    </tr>\n    <tr>\n      <th>G Scott</th>\n      <td>8.0</td>\n      <td>2.625000</td>\n      <td>1.187735</td>\n      <td>1.0</td>\n      <td>2.00</td>\n      <td>2.5</td>\n      <td>3.00</td>\n      <td>5.0</td>\n    </tr>\n    <tr>\n      <th>J Moss</th>\n      <td>30.0</td>\n      <td>3.966667</td>\n      <td>2.008316</td>\n      <td>1.0</td>\n      <td>2.25</td>\n      <td>4.0</td>\n      <td>5.00</td>\n      <td>9.0</td>\n    </tr>\n    <tr>\n      <th>K Friend</th>\n      <td>20.0</td>\n      <td>4.700000</td>\n      <td>2.154555</td>\n      <td>1.0</td>\n      <td>3.00</td>\n      <td>4.5</td>\n      <td>6.00</td>\n      <td>9.0</td>\n    </tr>\n    <tr>\n      <th>L Mason</th>\n      <td>19.0</td>\n      <td>3.526316</td>\n      <td>2.412201</td>\n      <td>0.0</td>\n      <td>2.00</td>\n      <td>3.0</td>\n      <td>5.50</td>\n      <td>8.0</td>\n    </tr>\n    <tr>\n      <th>L Probert</th>\n      <td>4.0</td>\n      <td>3.000000</td>\n      <td>2.449490</td>\n      <td>1.0</td>\n      <td>1.00</td>\n      <td>2.5</td>\n      <td>4.50</td>\n      <td>6.0</td>\n    </tr>\n    <tr>\n      <th>M Atkinson</th>\n      <td>27.0</td>\n      <td>3.222222</td>\n      <td>2.241794</td>\n      <td>0.0</td>\n      <td>1.50</td>\n      <td>3.0</td>\n      <td>4.50</td>\n      <td>8.0</td>\n    </tr>\n    <tr>\n      <th>M Clattenburg</th>\n      <td>22.0</td>\n      <td>3.272727</td>\n      <td>1.608958</td>\n      <td>0.0</td>\n      <td>2.00</td>\n      <td>3.0</td>\n      <td>4.00</td>\n      <td>6.0</td>\n    </tr>\n    <tr>\n      <th>M Dean</th>\n      <td>30.0</td>\n      <td>3.666667</td>\n      <td>1.768173</td>\n      <td>1.0</td>\n      <td>2.00</td>\n      <td>3.0</td>\n      <td>5.00</td>\n      <td>7.0</td>\n    </tr>\n    <tr>\n      <th>M Jones</th>\n      <td>18.0</td>\n      <td>3.388889</td>\n      <td>2.173067</td>\n      <td>0.0</td>\n      <td>2.00</td>\n      <td>4.0</td>\n      <td>4.75</td>\n      <td>8.0</td>\n    </tr>\n    <tr>\n      <th>M Oliver</th>\n      <td>33.0</td>\n      <td>3.333333</td>\n      <td>1.947220</td>\n      <td>0.0</td>\n      <td>2.00</td>\n      <td>3.0</td>\n      <td>5.00</td>\n      <td>7.0</td>\n    </tr>\n    <tr>\n      <th>N Swarbrick</th>\n      <td>24.0</td>\n      <td>3.708333</td>\n      <td>1.398109</td>\n      <td>1.0</td>\n      <td>3.00</td>\n      <td>4.0</td>\n      <td>5.00</td>\n      <td>6.0</td>\n    </tr>\n    <tr>\n      <th>P Tierney</th>\n      <td>10.0</td>\n      <td>2.900000</td>\n      <td>1.286684</td>\n      <td>1.0</td>\n      <td>2.00</td>\n      <td>3.0</td>\n      <td>3.00</td>\n      <td>5.0</td>\n    </tr>\n    <tr>\n      <th>R East</th>\n      <td>11.0</td>\n      <td>3.272727</td>\n      <td>1.902152</td>\n      <td>0.0</td>\n      <td>2.00</td>\n      <td>3.0</td>\n      <td>5.00</td>\n      <td>6.0</td>\n    </tr>\n    <tr>\n      <th>R Madley</th>\n      <td>30.0</td>\n      <td>4.133333</td>\n      <td>1.814374</td>\n      <td>1.0</td>\n      <td>3.00</td>\n      <td>4.0</td>\n      <td>5.75</td>\n      <td>8.0</td>\n    </tr>\n    <tr>\n      <th>S Attwell</th>\n      <td>10.0</td>\n      <td>3.000000</td>\n      <td>1.943651</td>\n      <td>0.0</td>\n      <td>2.00</td>\n      <td>2.5</td>\n      <td>3.75</td>\n      <td>7.0</td>\n    </tr>\n    <tr>\n      <th>l Mason</th>\n      <td>1.0</td>\n      <td>5.000000</td>\n      <td>NaN</td>\n      <td>5.0</td>\n      <td>5.00</td>\n      <td>5.0</td>\n      <td>5.00</td>\n      <td>5.0</td>\n    </tr>\n  </tbody>\n</table>\n</div>"
     },
     "metadata": {},
     "execution_count": 11
    }
   ],
   "source": [
    "groupedRefs.describe()['TotalYellows']"
   ]
  },
  {
   "cell_type": "code",
   "execution_count": 12,
   "metadata": {},
   "outputs": [
    {
     "output_type": "execute_result",
     "data": {
      "text/plain": "           Date HomeTeam       AwayTeam   Referee  HomeFouls  AwayFouls  \\\n171  26/12/2016  Burnley  Middlesbrough  C Pawson         17         18   \n\n     TotalFouls  HomeYellows  AwayYellows  TotalYellows  HomeReds  AwayReds  \\\n171          35            6            5            11         0         0   \n\n     TotalReds  \n171          0  ",
      "text/html": "<div>\n<style scoped>\n    .dataframe tbody tr th:only-of-type {\n        vertical-align: middle;\n    }\n\n    .dataframe tbody tr th {\n        vertical-align: top;\n    }\n\n    .dataframe thead th {\n        text-align: right;\n    }\n</style>\n<table border=\"1\" class=\"dataframe\">\n  <thead>\n    <tr style=\"text-align: right;\">\n      <th></th>\n      <th>Date</th>\n      <th>HomeTeam</th>\n      <th>AwayTeam</th>\n      <th>Referee</th>\n      <th>HomeFouls</th>\n      <th>AwayFouls</th>\n      <th>TotalFouls</th>\n      <th>HomeYellows</th>\n      <th>AwayYellows</th>\n      <th>TotalYellows</th>\n      <th>HomeReds</th>\n      <th>AwayReds</th>\n      <th>TotalReds</th>\n    </tr>\n  </thead>\n  <tbody>\n    <tr>\n      <th>171</th>\n      <td>26/12/2016</td>\n      <td>Burnley</td>\n      <td>Middlesbrough</td>\n      <td>C Pawson</td>\n      <td>17</td>\n      <td>18</td>\n      <td>35</td>\n      <td>6</td>\n      <td>5</td>\n      <td>11</td>\n      <td>0</td>\n      <td>0</td>\n      <td>0</td>\n    </tr>\n  </tbody>\n</table>\n</div>"
     },
     "metadata": {},
     "execution_count": 12
    }
   ],
   "source": [
    "df[df[\"TotalYellows\"]==11]"
   ]
  },
  {
   "cell_type": "code",
   "execution_count": 13,
   "metadata": {},
   "outputs": [
    {
     "output_type": "execute_result",
     "data": {
      "text/plain": "           Date HomeTeam AwayTeam   Referee  HomeFouls  AwayFouls  TotalFouls  \\\n129  27/11/2016  Watford    Stoke  R Madley         24         14          38   \n\n     HomeYellows  AwayYellows  TotalYellows  HomeReds  AwayReds  TotalReds  \n129            3            0             3         1         0          1  ",
      "text/html": "<div>\n<style scoped>\n    .dataframe tbody tr th:only-of-type {\n        vertical-align: middle;\n    }\n\n    .dataframe tbody tr th {\n        vertical-align: top;\n    }\n\n    .dataframe thead th {\n        text-align: right;\n    }\n</style>\n<table border=\"1\" class=\"dataframe\">\n  <thead>\n    <tr style=\"text-align: right;\">\n      <th></th>\n      <th>Date</th>\n      <th>HomeTeam</th>\n      <th>AwayTeam</th>\n      <th>Referee</th>\n      <th>HomeFouls</th>\n      <th>AwayFouls</th>\n      <th>TotalFouls</th>\n      <th>HomeYellows</th>\n      <th>AwayYellows</th>\n      <th>TotalYellows</th>\n      <th>HomeReds</th>\n      <th>AwayReds</th>\n      <th>TotalReds</th>\n    </tr>\n  </thead>\n  <tbody>\n    <tr>\n      <th>129</th>\n      <td>27/11/2016</td>\n      <td>Watford</td>\n      <td>Stoke</td>\n      <td>R Madley</td>\n      <td>24</td>\n      <td>14</td>\n      <td>38</td>\n      <td>3</td>\n      <td>0</td>\n      <td>3</td>\n      <td>1</td>\n      <td>0</td>\n      <td>1</td>\n    </tr>\n  </tbody>\n</table>\n</div>"
     },
     "metadata": {},
     "execution_count": 13
    }
   ],
   "source": [
    "df[df[\"TotalFouls\"]==38]"
   ]
  },
  {
   "cell_type": "code",
   "execution_count": 14,
   "metadata": {},
   "outputs": [
    {
     "output_type": "execute_result",
     "data": {
      "text/plain": "               count      mean       std  min  25%  50%   75%  max\nReferee                                                           \nA Marriner      28.0  0.071429  0.262265  0.0  0.0  0.0  0.00  1.0\nA Taylor        30.0  0.133333  0.434172  0.0  0.0  0.0  0.00  2.0\nC Kavanagh       1.0  0.000000       NaN  0.0  0.0  0.0  0.00  0.0\nC Pawson        24.0  0.166667  0.380693  0.0  0.0  0.0  0.00  1.0\nG Scott          8.0  0.250000  0.462910  0.0  0.0  0.0  0.25  1.0\nJ Moss          30.0  0.100000  0.305129  0.0  0.0  0.0  0.00  1.0\nK Friend        20.0  0.050000  0.223607  0.0  0.0  0.0  0.00  1.0\nL Mason         19.0  0.157895  0.374634  0.0  0.0  0.0  0.00  1.0\nL Probert        4.0  0.000000  0.000000  0.0  0.0  0.0  0.00  0.0\nM Atkinson      27.0  0.111111  0.320256  0.0  0.0  0.0  0.00  1.0\nM Clattenburg   22.0  0.136364  0.351250  0.0  0.0  0.0  0.00  1.0\nM Dean          30.0  0.166667  0.379049  0.0  0.0  0.0  0.00  1.0\nM Jones         18.0  0.055556  0.235702  0.0  0.0  0.0  0.00  1.0\nM Oliver        33.0  0.090909  0.291937  0.0  0.0  0.0  0.00  1.0\nN Swarbrick     24.0  0.041667  0.204124  0.0  0.0  0.0  0.00  1.0\nP Tierney       10.0  0.200000  0.421637  0.0  0.0  0.0  0.00  1.0\nR East          11.0  0.181818  0.404520  0.0  0.0  0.0  0.00  1.0\nR Madley        30.0  0.066667  0.253708  0.0  0.0  0.0  0.00  1.0\nS Attwell       10.0  0.000000  0.000000  0.0  0.0  0.0  0.00  0.0\nl Mason          1.0  0.000000       NaN  0.0  0.0  0.0  0.00  0.0",
      "text/html": "<div>\n<style scoped>\n    .dataframe tbody tr th:only-of-type {\n        vertical-align: middle;\n    }\n\n    .dataframe tbody tr th {\n        vertical-align: top;\n    }\n\n    .dataframe thead th {\n        text-align: right;\n    }\n</style>\n<table border=\"1\" class=\"dataframe\">\n  <thead>\n    <tr style=\"text-align: right;\">\n      <th></th>\n      <th>count</th>\n      <th>mean</th>\n      <th>std</th>\n      <th>min</th>\n      <th>25%</th>\n      <th>50%</th>\n      <th>75%</th>\n      <th>max</th>\n    </tr>\n    <tr>\n      <th>Referee</th>\n      <th></th>\n      <th></th>\n      <th></th>\n      <th></th>\n      <th></th>\n      <th></th>\n      <th></th>\n      <th></th>\n    </tr>\n  </thead>\n  <tbody>\n    <tr>\n      <th>A Marriner</th>\n      <td>28.0</td>\n      <td>0.071429</td>\n      <td>0.262265</td>\n      <td>0.0</td>\n      <td>0.0</td>\n      <td>0.0</td>\n      <td>0.00</td>\n      <td>1.0</td>\n    </tr>\n    <tr>\n      <th>A Taylor</th>\n      <td>30.0</td>\n      <td>0.133333</td>\n      <td>0.434172</td>\n      <td>0.0</td>\n      <td>0.0</td>\n      <td>0.0</td>\n      <td>0.00</td>\n      <td>2.0</td>\n    </tr>\n    <tr>\n      <th>C Kavanagh</th>\n      <td>1.0</td>\n      <td>0.000000</td>\n      <td>NaN</td>\n      <td>0.0</td>\n      <td>0.0</td>\n      <td>0.0</td>\n      <td>0.00</td>\n      <td>0.0</td>\n    </tr>\n    <tr>\n      <th>C Pawson</th>\n      <td>24.0</td>\n      <td>0.166667</td>\n      <td>0.380693</td>\n      <td>0.0</td>\n      <td>0.0</td>\n      <td>0.0</td>\n      <td>0.00</td>\n      <td>1.0</td>\n    </tr>\n    <tr>\n      <th>G Scott</th>\n      <td>8.0</td>\n      <td>0.250000</td>\n      <td>0.462910</td>\n      <td>0.0</td>\n      <td>0.0</td>\n      <td>0.0</td>\n      <td>0.25</td>\n      <td>1.0</td>\n    </tr>\n    <tr>\n      <th>J Moss</th>\n      <td>30.0</td>\n      <td>0.100000</td>\n      <td>0.305129</td>\n      <td>0.0</td>\n      <td>0.0</td>\n      <td>0.0</td>\n      <td>0.00</td>\n      <td>1.0</td>\n    </tr>\n    <tr>\n      <th>K Friend</th>\n      <td>20.0</td>\n      <td>0.050000</td>\n      <td>0.223607</td>\n      <td>0.0</td>\n      <td>0.0</td>\n      <td>0.0</td>\n      <td>0.00</td>\n      <td>1.0</td>\n    </tr>\n    <tr>\n      <th>L Mason</th>\n      <td>19.0</td>\n      <td>0.157895</td>\n      <td>0.374634</td>\n      <td>0.0</td>\n      <td>0.0</td>\n      <td>0.0</td>\n      <td>0.00</td>\n      <td>1.0</td>\n    </tr>\n    <tr>\n      <th>L Probert</th>\n      <td>4.0</td>\n      <td>0.000000</td>\n      <td>0.000000</td>\n      <td>0.0</td>\n      <td>0.0</td>\n      <td>0.0</td>\n      <td>0.00</td>\n      <td>0.0</td>\n    </tr>\n    <tr>\n      <th>M Atkinson</th>\n      <td>27.0</td>\n      <td>0.111111</td>\n      <td>0.320256</td>\n      <td>0.0</td>\n      <td>0.0</td>\n      <td>0.0</td>\n      <td>0.00</td>\n      <td>1.0</td>\n    </tr>\n    <tr>\n      <th>M Clattenburg</th>\n      <td>22.0</td>\n      <td>0.136364</td>\n      <td>0.351250</td>\n      <td>0.0</td>\n      <td>0.0</td>\n      <td>0.0</td>\n      <td>0.00</td>\n      <td>1.0</td>\n    </tr>\n    <tr>\n      <th>M Dean</th>\n      <td>30.0</td>\n      <td>0.166667</td>\n      <td>0.379049</td>\n      <td>0.0</td>\n      <td>0.0</td>\n      <td>0.0</td>\n      <td>0.00</td>\n      <td>1.0</td>\n    </tr>\n    <tr>\n      <th>M Jones</th>\n      <td>18.0</td>\n      <td>0.055556</td>\n      <td>0.235702</td>\n      <td>0.0</td>\n      <td>0.0</td>\n      <td>0.0</td>\n      <td>0.00</td>\n      <td>1.0</td>\n    </tr>\n    <tr>\n      <th>M Oliver</th>\n      <td>33.0</td>\n      <td>0.090909</td>\n      <td>0.291937</td>\n      <td>0.0</td>\n      <td>0.0</td>\n      <td>0.0</td>\n      <td>0.00</td>\n      <td>1.0</td>\n    </tr>\n    <tr>\n      <th>N Swarbrick</th>\n      <td>24.0</td>\n      <td>0.041667</td>\n      <td>0.204124</td>\n      <td>0.0</td>\n      <td>0.0</td>\n      <td>0.0</td>\n      <td>0.00</td>\n      <td>1.0</td>\n    </tr>\n    <tr>\n      <th>P Tierney</th>\n      <td>10.0</td>\n      <td>0.200000</td>\n      <td>0.421637</td>\n      <td>0.0</td>\n      <td>0.0</td>\n      <td>0.0</td>\n      <td>0.00</td>\n      <td>1.0</td>\n    </tr>\n    <tr>\n      <th>R East</th>\n      <td>11.0</td>\n      <td>0.181818</td>\n      <td>0.404520</td>\n      <td>0.0</td>\n      <td>0.0</td>\n      <td>0.0</td>\n      <td>0.00</td>\n      <td>1.0</td>\n    </tr>\n    <tr>\n      <th>R Madley</th>\n      <td>30.0</td>\n      <td>0.066667</td>\n      <td>0.253708</td>\n      <td>0.0</td>\n      <td>0.0</td>\n      <td>0.0</td>\n      <td>0.00</td>\n      <td>1.0</td>\n    </tr>\n    <tr>\n      <th>S Attwell</th>\n      <td>10.0</td>\n      <td>0.000000</td>\n      <td>0.000000</td>\n      <td>0.0</td>\n      <td>0.0</td>\n      <td>0.0</td>\n      <td>0.00</td>\n      <td>0.0</td>\n    </tr>\n    <tr>\n      <th>l Mason</th>\n      <td>1.0</td>\n      <td>0.000000</td>\n      <td>NaN</td>\n      <td>0.0</td>\n      <td>0.0</td>\n      <td>0.0</td>\n      <td>0.00</td>\n      <td>0.0</td>\n    </tr>\n  </tbody>\n</table>\n</div>"
     },
     "metadata": {},
     "execution_count": 14
    }
   ],
   "source": [
    "groupedRefs.describe()[\"TotalReds\"]"
   ]
  },
  {
   "cell_type": "code",
   "execution_count": 15,
   "metadata": {},
   "outputs": [
    {
     "output_type": "execute_result",
     "data": {
      "text/plain": "           Date  HomeTeam AwayTeam   Referee  HomeFouls  AwayFouls  \\\n131  03/12/2016  Man City  Chelsea  A Taylor         14          9   \n\n     TotalFouls  HomeYellows  AwayYellows  TotalYellows  HomeReds  AwayReds  \\\n131          23            2            3             5         2         0   \n\n     TotalReds  \n131          2  ",
      "text/html": "<div>\n<style scoped>\n    .dataframe tbody tr th:only-of-type {\n        vertical-align: middle;\n    }\n\n    .dataframe tbody tr th {\n        vertical-align: top;\n    }\n\n    .dataframe thead th {\n        text-align: right;\n    }\n</style>\n<table border=\"1\" class=\"dataframe\">\n  <thead>\n    <tr style=\"text-align: right;\">\n      <th></th>\n      <th>Date</th>\n      <th>HomeTeam</th>\n      <th>AwayTeam</th>\n      <th>Referee</th>\n      <th>HomeFouls</th>\n      <th>AwayFouls</th>\n      <th>TotalFouls</th>\n      <th>HomeYellows</th>\n      <th>AwayYellows</th>\n      <th>TotalYellows</th>\n      <th>HomeReds</th>\n      <th>AwayReds</th>\n      <th>TotalReds</th>\n    </tr>\n  </thead>\n  <tbody>\n    <tr>\n      <th>131</th>\n      <td>03/12/2016</td>\n      <td>Man City</td>\n      <td>Chelsea</td>\n      <td>A Taylor</td>\n      <td>14</td>\n      <td>9</td>\n      <td>23</td>\n      <td>2</td>\n      <td>3</td>\n      <td>5</td>\n      <td>2</td>\n      <td>0</td>\n      <td>2</td>\n    </tr>\n  </tbody>\n</table>\n</div>"
     },
     "metadata": {},
     "execution_count": 15
    }
   ],
   "source": [
    "df[df[\"TotalReds\"]==2]"
   ]
  },
  {
   "cell_type": "code",
   "execution_count": 16,
   "metadata": {},
   "outputs": [
    {
     "output_type": "execute_result",
     "data": {
      "text/plain": "array([1930, 1934, 1938, 1950, 1954, 1958, 1962, 1966, 1970, 1974, 1978,\n       1982, 1986, 1990, 1994, 1998, 2002, 2006, 2010, 2014])"
     },
     "metadata": {},
     "execution_count": 16
    }
   ],
   "source": [
    "WCYears = np.arange(1930,2018,4)\n",
    "WCYears = np.delete(WCYears,(3,4))\n",
    "\n",
    "WCYears"
   ]
  },
  {
   "cell_type": "code",
   "execution_count": 17,
   "metadata": {},
   "outputs": [
    {
     "output_type": "execute_result",
     "data": {
      "text/plain": "array([['2002', '2006', '2010', '2014'],\n       ['Japan/Korea', 'Germany', 'South Africa', 'Brazil'],\n       ['Brazil', 'Italy', 'Spain', 'Germany']], dtype='<U21')"
     },
     "metadata": {},
     "execution_count": 17
    }
   ],
   "source": [
    "WCYears = [2002,2006,2010,2014]\n",
    "WCHosts = [\"Japan/Korea\",\"Germany\",\"South Africa\",\"Brazil\"]\n",
    "WCWinners = [\"Brazil\",\"Italy\",\"Spain\",\"Germany\"]\n",
    "\n",
    "WCArray = np.array((WCYears, WCHosts, WCWinners))\n",
    "WCArray"
   ]
  },
  {
   "cell_type": "code",
   "execution_count": 18,
   "metadata": {},
   "outputs": [
    {
     "output_type": "execute_result",
     "data": {
      "text/plain": "'Germany'"
     },
     "metadata": {},
     "execution_count": 18
    }
   ],
   "source": [
    "#Finde the winner of the last World Cup\n",
    "\n",
    "WCArray[2][-1]"
   ]
  },
  {
   "cell_type": "code",
   "execution_count": 19,
   "metadata": {},
   "outputs": [],
   "source": [
    "WCYears = np.array([1966,1970,1974,1978])\n",
    "WCTopScorers = np.array([\"Eusebio\",\"Muller\",\"Lato\",\"Kempes\"])\n",
    "WCGoals = np.array([9,10,7,6])"
   ]
  },
  {
   "cell_type": "code",
   "execution_count": 20,
   "metadata": {},
   "outputs": [
    {
     "output_type": "execute_result",
     "data": {
      "text/plain": "array(['Eusebio', 'Muller'], dtype='<U7')"
     },
     "metadata": {},
     "execution_count": 20
    }
   ],
   "source": [
    "#Where does the top scorer score more than 8 goals?\n",
    "\n",
    "WCTopScorers[WCGoals>8]"
   ]
  },
  {
   "cell_type": "code",
   "execution_count": 21,
   "metadata": {},
   "outputs": [
    {
     "output_type": "execute_result",
     "data": {
      "text/plain": "array([[9, 2, 9],\n       [9, 4, 9],\n       [2, 9, 5],\n       [6, 3, 6]])"
     },
     "metadata": {},
     "execution_count": 21
    }
   ],
   "source": [
    "PlayerList = [\"Lewandowski\",\"Haaland\",\"Werner\",\"Volland\"]\n",
    "SkillList=[\"Shooting\",\"Passing\",\"Heading\"]\n",
    "\n",
    "ScoresArray = np.random.randint(1,10,(4,3))\n",
    "ScoresArray"
   ]
  },
  {
   "cell_type": "code",
   "execution_count": 22,
   "metadata": {},
   "outputs": [
    {
     "output_type": "execute_result",
     "data": {
      "text/plain": "             Shooting  Passing  Heading\nLewandowski         9        2        9\nHaaland             9        4        9\nWerner              2        9        5\nVolland             6        3        6",
      "text/html": "<div>\n<style scoped>\n    .dataframe tbody tr th:only-of-type {\n        vertical-align: middle;\n    }\n\n    .dataframe tbody tr th {\n        vertical-align: top;\n    }\n\n    .dataframe thead th {\n        text-align: right;\n    }\n</style>\n<table border=\"1\" class=\"dataframe\">\n  <thead>\n    <tr style=\"text-align: right;\">\n      <th></th>\n      <th>Shooting</th>\n      <th>Passing</th>\n      <th>Heading</th>\n    </tr>\n  </thead>\n  <tbody>\n    <tr>\n      <th>Lewandowski</th>\n      <td>9</td>\n      <td>2</td>\n      <td>9</td>\n    </tr>\n    <tr>\n      <th>Haaland</th>\n      <td>9</td>\n      <td>4</td>\n      <td>9</td>\n    </tr>\n    <tr>\n      <th>Werner</th>\n      <td>2</td>\n      <td>9</td>\n      <td>5</td>\n    </tr>\n    <tr>\n      <th>Volland</th>\n      <td>6</td>\n      <td>3</td>\n      <td>6</td>\n    </tr>\n  </tbody>\n</table>\n</div>"
     },
     "metadata": {},
     "execution_count": 22
    }
   ],
   "source": [
    "df = pd.DataFrame(data=ScoresArray, index=PlayerList, columns=SkillList)\n",
    "df"
   ]
  },
  {
   "cell_type": "code",
   "execution_count": 23,
   "metadata": {},
   "outputs": [
    {
     "output_type": "execute_result",
     "data": {
      "text/plain": "Lewandowski    9\nHaaland        9\nWerner         2\nVolland        6\nName: Shooting, dtype: int64"
     },
     "metadata": {},
     "execution_count": 23
    }
   ],
   "source": [
    "df[\"Shooting\"]"
   ]
  },
  {
   "cell_type": "code",
   "execution_count": 24,
   "metadata": {},
   "outputs": [
    {
     "output_type": "execute_result",
     "data": {
      "text/plain": "Shooting    9\nPassing     2\nHeading     9\nName: Lewandowski, dtype: int64"
     },
     "metadata": {},
     "execution_count": 24
    }
   ],
   "source": [
    "df.loc[\"Lewandowski\"]"
   ]
  },
  {
   "cell_type": "code",
   "execution_count": 25,
   "metadata": {},
   "outputs": [
    {
     "output_type": "execute_result",
     "data": {
      "text/plain": "         Shooting  Passing  Heading\nHaaland         9        4        9\nWerner          2        9        5",
      "text/html": "<div>\n<style scoped>\n    .dataframe tbody tr th:only-of-type {\n        vertical-align: middle;\n    }\n\n    .dataframe tbody tr th {\n        vertical-align: top;\n    }\n\n    .dataframe thead th {\n        text-align: right;\n    }\n</style>\n<table border=\"1\" class=\"dataframe\">\n  <thead>\n    <tr style=\"text-align: right;\">\n      <th></th>\n      <th>Shooting</th>\n      <th>Passing</th>\n      <th>Heading</th>\n    </tr>\n  </thead>\n  <tbody>\n    <tr>\n      <th>Haaland</th>\n      <td>9</td>\n      <td>4</td>\n      <td>9</td>\n    </tr>\n    <tr>\n      <th>Werner</th>\n      <td>2</td>\n      <td>9</td>\n      <td>5</td>\n    </tr>\n  </tbody>\n</table>\n</div>"
     },
     "metadata": {},
     "execution_count": 25
    }
   ],
   "source": [
    "df.iloc[1:3]"
   ]
  },
  {
   "cell_type": "code",
   "execution_count": 26,
   "metadata": {},
   "outputs": [
    {
     "output_type": "execute_result",
     "data": {
      "text/plain": "             Shooting  Passing  Heading  Pace\nLewandowski         9        2        9     2\nHaaland             9        4        9     6\nWerner              2        9        5     1\nVolland             6        3        6     9",
      "text/html": "<div>\n<style scoped>\n    .dataframe tbody tr th:only-of-type {\n        vertical-align: middle;\n    }\n\n    .dataframe tbody tr th {\n        vertical-align: top;\n    }\n\n    .dataframe thead th {\n        text-align: right;\n    }\n</style>\n<table border=\"1\" class=\"dataframe\">\n  <thead>\n    <tr style=\"text-align: right;\">\n      <th></th>\n      <th>Shooting</th>\n      <th>Passing</th>\n      <th>Heading</th>\n      <th>Pace</th>\n    </tr>\n  </thead>\n  <tbody>\n    <tr>\n      <th>Lewandowski</th>\n      <td>9</td>\n      <td>2</td>\n      <td>9</td>\n      <td>2</td>\n    </tr>\n    <tr>\n      <th>Haaland</th>\n      <td>9</td>\n      <td>4</td>\n      <td>9</td>\n      <td>6</td>\n    </tr>\n    <tr>\n      <th>Werner</th>\n      <td>2</td>\n      <td>9</td>\n      <td>5</td>\n      <td>1</td>\n    </tr>\n    <tr>\n      <th>Volland</th>\n      <td>6</td>\n      <td>3</td>\n      <td>6</td>\n      <td>9</td>\n    </tr>\n  </tbody>\n</table>\n</div>"
     },
     "metadata": {},
     "execution_count": 26
    }
   ],
   "source": [
    "df[\"Pace\"] = np.random.randint(1,10,4)\n",
    "df"
   ]
  },
  {
   "cell_type": "code",
   "execution_count": 27,
   "metadata": {},
   "outputs": [
    {
     "output_type": "execute_result",
     "data": {
      "text/plain": "             Shooting  Passing  Pace\nLewandowski         9        2     2\nHaaland             9        4     6\nWerner              2        9     1\nVolland             6        3     9",
      "text/html": "<div>\n<style scoped>\n    .dataframe tbody tr th:only-of-type {\n        vertical-align: middle;\n    }\n\n    .dataframe tbody tr th {\n        vertical-align: top;\n    }\n\n    .dataframe thead th {\n        text-align: right;\n    }\n</style>\n<table border=\"1\" class=\"dataframe\">\n  <thead>\n    <tr style=\"text-align: right;\">\n      <th></th>\n      <th>Shooting</th>\n      <th>Passing</th>\n      <th>Pace</th>\n    </tr>\n  </thead>\n  <tbody>\n    <tr>\n      <th>Lewandowski</th>\n      <td>9</td>\n      <td>2</td>\n      <td>2</td>\n    </tr>\n    <tr>\n      <th>Haaland</th>\n      <td>9</td>\n      <td>4</td>\n      <td>6</td>\n    </tr>\n    <tr>\n      <th>Werner</th>\n      <td>2</td>\n      <td>9</td>\n      <td>1</td>\n    </tr>\n    <tr>\n      <th>Volland</th>\n      <td>6</td>\n      <td>3</td>\n      <td>9</td>\n    </tr>\n  </tbody>\n</table>\n</div>"
     },
     "metadata": {},
     "execution_count": 27
    }
   ],
   "source": [
    "df = df.drop(\"Heading\", axis=1)\n",
    "df"
   ]
  },
  {
   "cell_type": "code",
   "execution_count": 28,
   "metadata": {},
   "outputs": [
    {
     "output_type": "execute_result",
     "data": {
      "text/plain": "             Shooting  Passing  Pace\nLewandowski         9        2     2\nHaaland             9        4     6\nWerner              2        9     1\nVolland             6        3     9\nPiątek              8        5     3",
      "text/html": "<div>\n<style scoped>\n    .dataframe tbody tr th:only-of-type {\n        vertical-align: middle;\n    }\n\n    .dataframe tbody tr th {\n        vertical-align: top;\n    }\n\n    .dataframe thead th {\n        text-align: right;\n    }\n</style>\n<table border=\"1\" class=\"dataframe\">\n  <thead>\n    <tr style=\"text-align: right;\">\n      <th></th>\n      <th>Shooting</th>\n      <th>Passing</th>\n      <th>Pace</th>\n    </tr>\n  </thead>\n  <tbody>\n    <tr>\n      <th>Lewandowski</th>\n      <td>9</td>\n      <td>2</td>\n      <td>2</td>\n    </tr>\n    <tr>\n      <th>Haaland</th>\n      <td>9</td>\n      <td>4</td>\n      <td>6</td>\n    </tr>\n    <tr>\n      <th>Werner</th>\n      <td>2</td>\n      <td>9</td>\n      <td>1</td>\n    </tr>\n    <tr>\n      <th>Volland</th>\n      <td>6</td>\n      <td>3</td>\n      <td>9</td>\n    </tr>\n    <tr>\n      <th>Piątek</th>\n      <td>8</td>\n      <td>5</td>\n      <td>3</td>\n    </tr>\n  </tbody>\n</table>\n</div>"
     },
     "metadata": {},
     "execution_count": 28
    }
   ],
   "source": [
    "df.loc[\"Piątek\"] = (np.random.randint(1,10,3))\n",
    "df"
   ]
  },
  {
   "cell_type": "code",
   "execution_count": 29,
   "metadata": {},
   "outputs": [
    {
     "output_type": "execute_result",
     "data": {
      "text/plain": "             Shooting  Passing   Pace\nLewandowski      True    False  False\nHaaland          True    False   True\nWerner          False     True  False\nVolland          True    False   True\nPiątek           True    False  False",
      "text/html": "<div>\n<style scoped>\n    .dataframe tbody tr th:only-of-type {\n        vertical-align: middle;\n    }\n\n    .dataframe tbody tr th {\n        vertical-align: top;\n    }\n\n    .dataframe thead th {\n        text-align: right;\n    }\n</style>\n<table border=\"1\" class=\"dataframe\">\n  <thead>\n    <tr style=\"text-align: right;\">\n      <th></th>\n      <th>Shooting</th>\n      <th>Passing</th>\n      <th>Pace</th>\n    </tr>\n  </thead>\n  <tbody>\n    <tr>\n      <th>Lewandowski</th>\n      <td>True</td>\n      <td>False</td>\n      <td>False</td>\n    </tr>\n    <tr>\n      <th>Haaland</th>\n      <td>True</td>\n      <td>False</td>\n      <td>True</td>\n    </tr>\n    <tr>\n      <th>Werner</th>\n      <td>False</td>\n      <td>True</td>\n      <td>False</td>\n    </tr>\n    <tr>\n      <th>Volland</th>\n      <td>True</td>\n      <td>False</td>\n      <td>True</td>\n    </tr>\n    <tr>\n      <th>Piątek</th>\n      <td>True</td>\n      <td>False</td>\n      <td>False</td>\n    </tr>\n  </tbody>\n</table>\n</div>"
     },
     "metadata": {},
     "execution_count": 29
    }
   ],
   "source": [
    "df>5"
   ]
  },
  {
   "cell_type": "code",
   "execution_count": 30,
   "metadata": {},
   "outputs": [
    {
     "output_type": "execute_result",
     "data": {
      "text/plain": "             Shooting  Passing  Pace\nLewandowski         9        2     2\nHaaland             9        4     6\nVolland             6        3     9\nPiątek              8        5     3",
      "text/html": "<div>\n<style scoped>\n    .dataframe tbody tr th:only-of-type {\n        vertical-align: middle;\n    }\n\n    .dataframe tbody tr th {\n        vertical-align: top;\n    }\n\n    .dataframe thead th {\n        text-align: right;\n    }\n</style>\n<table border=\"1\" class=\"dataframe\">\n  <thead>\n    <tr style=\"text-align: right;\">\n      <th></th>\n      <th>Shooting</th>\n      <th>Passing</th>\n      <th>Pace</th>\n    </tr>\n  </thead>\n  <tbody>\n    <tr>\n      <th>Lewandowski</th>\n      <td>9</td>\n      <td>2</td>\n      <td>2</td>\n    </tr>\n    <tr>\n      <th>Haaland</th>\n      <td>9</td>\n      <td>4</td>\n      <td>6</td>\n    </tr>\n    <tr>\n      <th>Volland</th>\n      <td>6</td>\n      <td>3</td>\n      <td>9</td>\n    </tr>\n    <tr>\n      <th>Piątek</th>\n      <td>8</td>\n      <td>5</td>\n      <td>3</td>\n    </tr>\n  </tbody>\n</table>\n</div>"
     },
     "metadata": {},
     "execution_count": 30
    }
   ],
   "source": [
    "df[df[\"Shooting\"]>5] "
   ]
  },
  {
   "cell_type": "code",
   "execution_count": 31,
   "metadata": {},
   "outputs": [
    {
     "output_type": "execute_result",
     "data": {
      "text/plain": "           Wage  GoalBonus  ImageRights\nKonda  150000.0     4000.0        50000\nMakho  123000.0        NaN        70000\nGrey        NaN        NaN       100000",
      "text/html": "<div>\n<style scoped>\n    .dataframe tbody tr th:only-of-type {\n        vertical-align: middle;\n    }\n\n    .dataframe tbody tr th {\n        vertical-align: top;\n    }\n\n    .dataframe thead th {\n        text-align: right;\n    }\n</style>\n<table border=\"1\" class=\"dataframe\">\n  <thead>\n    <tr style=\"text-align: right;\">\n      <th></th>\n      <th>Wage</th>\n      <th>GoalBonus</th>\n      <th>ImageRights</th>\n    </tr>\n  </thead>\n  <tbody>\n    <tr>\n      <th>Konda</th>\n      <td>150000.0</td>\n      <td>4000.0</td>\n      <td>50000</td>\n    </tr>\n    <tr>\n      <th>Makho</th>\n      <td>123000.0</td>\n      <td>NaN</td>\n      <td>70000</td>\n    </tr>\n    <tr>\n      <th>Grey</th>\n      <td>NaN</td>\n      <td>NaN</td>\n      <td>100000</td>\n    </tr>\n  </tbody>\n</table>\n</div>"
     },
     "metadata": {},
     "execution_count": 31
    }
   ],
   "source": [
    "df = pd.DataFrame({'Wage':[150000,123000,np.nan],\n",
    "'GoalBonus':[4000,np.nan,np.nan],\n",
    "'ImageRights':[50000,70000,100000]}, \n",
    "index=['Konda','Makho','Grey'],\n",
    "columns=['Wage','GoalBonus','ImageRights'])\n",
    "\n",
    "df"
   ]
  },
  {
   "cell_type": "code",
   "execution_count": 32,
   "metadata": {},
   "outputs": [
    {
     "output_type": "execute_result",
     "data": {
      "text/plain": "           Wage  GoalBonus  ImageRights\nKonda  150000.0     4000.0        50000\nMakho  123000.0        NaN        70000",
      "text/html": "<div>\n<style scoped>\n    .dataframe tbody tr th:only-of-type {\n        vertical-align: middle;\n    }\n\n    .dataframe tbody tr th {\n        vertical-align: top;\n    }\n\n    .dataframe thead th {\n        text-align: right;\n    }\n</style>\n<table border=\"1\" class=\"dataframe\">\n  <thead>\n    <tr style=\"text-align: right;\">\n      <th></th>\n      <th>Wage</th>\n      <th>GoalBonus</th>\n      <th>ImageRights</th>\n    </tr>\n  </thead>\n  <tbody>\n    <tr>\n      <th>Konda</th>\n      <td>150000.0</td>\n      <td>4000.0</td>\n      <td>50000</td>\n    </tr>\n    <tr>\n      <th>Makho</th>\n      <td>123000.0</td>\n      <td>NaN</td>\n      <td>70000</td>\n    </tr>\n  </tbody>\n</table>\n</div>"
     },
     "metadata": {},
     "execution_count": 32
    }
   ],
   "source": [
    "df.dropna(thresh=2)"
   ]
  },
  {
   "cell_type": "code",
   "execution_count": 33,
   "metadata": {},
   "outputs": [
    {
     "output_type": "execute_result",
     "data": {
      "text/plain": "           Wage  GoalBonus  ImageRights\nKonda  150000.0     4000.0        50000\nMakho  123000.0        0.0        70000\nGrey        0.0        0.0       100000",
      "text/html": "<div>\n<style scoped>\n    .dataframe tbody tr th:only-of-type {\n        vertical-align: middle;\n    }\n\n    .dataframe tbody tr th {\n        vertical-align: top;\n    }\n\n    .dataframe thead th {\n        text-align: right;\n    }\n</style>\n<table border=\"1\" class=\"dataframe\">\n  <thead>\n    <tr style=\"text-align: right;\">\n      <th></th>\n      <th>Wage</th>\n      <th>GoalBonus</th>\n      <th>ImageRights</th>\n    </tr>\n  </thead>\n  <tbody>\n    <tr>\n      <th>Konda</th>\n      <td>150000.0</td>\n      <td>4000.0</td>\n      <td>50000</td>\n    </tr>\n    <tr>\n      <th>Makho</th>\n      <td>123000.0</td>\n      <td>0.0</td>\n      <td>70000</td>\n    </tr>\n    <tr>\n      <th>Grey</th>\n      <td>0.0</td>\n      <td>0.0</td>\n      <td>100000</td>\n    </tr>\n  </tbody>\n</table>\n</div>"
     },
     "metadata": {},
     "execution_count": 33
    }
   ],
   "source": [
    "df.fillna(value=0)"
   ]
  },
  {
   "cell_type": "code",
   "execution_count": 34,
   "metadata": {},
   "outputs": [
    {
     "output_type": "execute_result",
     "data": {
      "text/plain": "Konda    150000.0\nMakho    123000.0\nGrey     136500.0\nName: Wage, dtype: float64"
     },
     "metadata": {},
     "execution_count": 34
    }
   ],
   "source": [
    "df[\"Wage\"].fillna(value=df['Wage'].mean())"
   ]
  },
  {
   "cell_type": "code",
   "execution_count": 35,
   "metadata": {},
   "outputs": [
    {
     "output_type": "execute_result",
     "data": {
      "text/plain": "             Opponent Location  GoalsFor  GoalsAgainst\n0       Atletico Jave     Home         2             4\n1          Newtown FC     Away         4             0\n2         Bunton Town     Away         3             2\n3  Fentborough Dynamo     Home         0             2",
      "text/html": "<div>\n<style scoped>\n    .dataframe tbody tr th:only-of-type {\n        vertical-align: middle;\n    }\n\n    .dataframe tbody tr th {\n        vertical-align: top;\n    }\n\n    .dataframe thead th {\n        text-align: right;\n    }\n</style>\n<table border=\"1\" class=\"dataframe\">\n  <thead>\n    <tr style=\"text-align: right;\">\n      <th></th>\n      <th>Opponent</th>\n      <th>Location</th>\n      <th>GoalsFor</th>\n      <th>GoalsAgainst</th>\n    </tr>\n  </thead>\n  <tbody>\n    <tr>\n      <th>0</th>\n      <td>Atletico Jave</td>\n      <td>Home</td>\n      <td>2</td>\n      <td>4</td>\n    </tr>\n    <tr>\n      <th>1</th>\n      <td>Newtown FC</td>\n      <td>Away</td>\n      <td>4</td>\n      <td>0</td>\n    </tr>\n    <tr>\n      <th>2</th>\n      <td>Bunton Town</td>\n      <td>Away</td>\n      <td>3</td>\n      <td>2</td>\n    </tr>\n    <tr>\n      <th>3</th>\n      <td>Fentborough Dynamo</td>\n      <td>Home</td>\n      <td>0</td>\n      <td>2</td>\n    </tr>\n  </tbody>\n</table>\n</div>"
     },
     "metadata": {},
     "execution_count": 35
    }
   ],
   "source": [
    "data = {'Opponent':\n",
    "        [\"Atletico Jave\",\"Newtown FC\", \n",
    "         \"Bunton Town\", \"Fentborough Dynamo\"],\n",
    "       'Location':\n",
    "        [\"Home\",\"Away\",\"Away\",\"Home\"],\n",
    "        'GoalsFor':\n",
    "        [2,4,3,0],\n",
    "        'GoalsAgainst':\n",
    "        [4,0,2,2]}\n",
    "\n",
    "Matches = pd.DataFrame(data)\n",
    "Matches"
   ]
  },
  {
   "cell_type": "code",
   "execution_count": 36,
   "metadata": {},
   "outputs": [
    {
     "output_type": "execute_result",
     "data": {
      "text/plain": "         GoalsFor                                           GoalsAgainst       \\\n            count mean       std  min   25%  50%   75%  max        count mean   \nLocation                                                                        \nAway          2.0  3.5  0.707107  3.0  3.25  3.5  3.75  4.0          2.0  1.0   \nHome          2.0  1.0  1.414214  0.0  0.50  1.0  1.50  2.0          2.0  3.0   \n\n                                             \n               std  min  25%  50%  75%  max  \nLocation                                     \nAway      1.414214  0.0  0.5  1.0  1.5  2.0  \nHome      1.414214  2.0  2.5  3.0  3.5  4.0  ",
      "text/html": "<div>\n<style scoped>\n    .dataframe tbody tr th:only-of-type {\n        vertical-align: middle;\n    }\n\n    .dataframe tbody tr th {\n        vertical-align: top;\n    }\n\n    .dataframe thead tr th {\n        text-align: left;\n    }\n\n    .dataframe thead tr:last-of-type th {\n        text-align: right;\n    }\n</style>\n<table border=\"1\" class=\"dataframe\">\n  <thead>\n    <tr>\n      <th></th>\n      <th colspan=\"8\" halign=\"left\">GoalsFor</th>\n      <th colspan=\"8\" halign=\"left\">GoalsAgainst</th>\n    </tr>\n    <tr>\n      <th></th>\n      <th>count</th>\n      <th>mean</th>\n      <th>std</th>\n      <th>min</th>\n      <th>25%</th>\n      <th>50%</th>\n      <th>75%</th>\n      <th>max</th>\n      <th>count</th>\n      <th>mean</th>\n      <th>std</th>\n      <th>min</th>\n      <th>25%</th>\n      <th>50%</th>\n      <th>75%</th>\n      <th>max</th>\n    </tr>\n    <tr>\n      <th>Location</th>\n      <th></th>\n      <th></th>\n      <th></th>\n      <th></th>\n      <th></th>\n      <th></th>\n      <th></th>\n      <th></th>\n      <th></th>\n      <th></th>\n      <th></th>\n      <th></th>\n      <th></th>\n      <th></th>\n      <th></th>\n      <th></th>\n    </tr>\n  </thead>\n  <tbody>\n    <tr>\n      <th>Away</th>\n      <td>2.0</td>\n      <td>3.5</td>\n      <td>0.707107</td>\n      <td>3.0</td>\n      <td>3.25</td>\n      <td>3.5</td>\n      <td>3.75</td>\n      <td>4.0</td>\n      <td>2.0</td>\n      <td>1.0</td>\n      <td>1.414214</td>\n      <td>0.0</td>\n      <td>0.5</td>\n      <td>1.0</td>\n      <td>1.5</td>\n      <td>2.0</td>\n    </tr>\n    <tr>\n      <th>Home</th>\n      <td>2.0</td>\n      <td>1.0</td>\n      <td>1.414214</td>\n      <td>0.0</td>\n      <td>0.50</td>\n      <td>1.0</td>\n      <td>1.50</td>\n      <td>2.0</td>\n      <td>2.0</td>\n      <td>3.0</td>\n      <td>1.414214</td>\n      <td>2.0</td>\n      <td>2.5</td>\n      <td>3.0</td>\n      <td>3.5</td>\n      <td>4.0</td>\n    </tr>\n  </tbody>\n</table>\n</div>"
     },
     "metadata": {},
     "execution_count": 36
    }
   ],
   "source": [
    "Matches.groupby(\"Location\").describe()"
   ]
  },
  {
   "cell_type": "code",
   "execution_count": 37,
   "metadata": {},
   "outputs": [
    {
     "output_type": "execute_result",
     "data": {
      "text/plain": "             Opponent  GoalsFor  GoalsAgainst  Attendance\n0  Ouestjambon United         4             1       53225",
      "text/html": "<div>\n<style scoped>\n    .dataframe tbody tr th:only-of-type {\n        vertical-align: middle;\n    }\n\n    .dataframe tbody tr th {\n        vertical-align: top;\n    }\n\n    .dataframe thead th {\n        text-align: right;\n    }\n</style>\n<table border=\"1\" class=\"dataframe\">\n  <thead>\n    <tr style=\"text-align: right;\">\n      <th></th>\n      <th>Opponent</th>\n      <th>GoalsFor</th>\n      <th>GoalsAgainst</th>\n      <th>Attendance</th>\n    </tr>\n  </thead>\n  <tbody>\n    <tr>\n      <th>0</th>\n      <td>Ouestjambon United</td>\n      <td>4</td>\n      <td>1</td>\n      <td>53225</td>\n    </tr>\n  </tbody>\n</table>\n</div>"
     },
     "metadata": {},
     "execution_count": 37
    }
   ],
   "source": [
    "match1 = pd.DataFrame({'Opponent':['Selche FC'],\n",
    "                      'GoalsFor':[1],\n",
    "                       'GoalsAgainst':[1],\n",
    "                       'Attendance':[53225]})\n",
    "\n",
    "match2 = pd.DataFrame({'Opponent':['Sudaton FC'],\n",
    "                      'GoalsFor':[3],\n",
    "                       'GoalsAgainst':[0],\n",
    "                       'Attendance':[53256]})\n",
    "\n",
    "match3 = pd.DataFrame({'Opponent':['Ouestjambon United'],\n",
    "                      'GoalsFor':[4],\n",
    "                       'GoalsAgainst':[1],\n",
    "                       'Attendance':[53225]})\n",
    "\n",
    "match3"
   ]
  },
  {
   "cell_type": "code",
   "execution_count": 38,
   "metadata": {},
   "outputs": [
    {
     "output_type": "execute_result",
     "data": {
      "text/plain": "             Opponent  GoalsFor  GoalsAgainst  Attendance\n0           Selche FC         1             1       53225\n0          Sudaton FC         3             0       53256\n0  Ouestjambon United         4             1       53225",
      "text/html": "<div>\n<style scoped>\n    .dataframe tbody tr th:only-of-type {\n        vertical-align: middle;\n    }\n\n    .dataframe tbody tr th {\n        vertical-align: top;\n    }\n\n    .dataframe thead th {\n        text-align: right;\n    }\n</style>\n<table border=\"1\" class=\"dataframe\">\n  <thead>\n    <tr style=\"text-align: right;\">\n      <th></th>\n      <th>Opponent</th>\n      <th>GoalsFor</th>\n      <th>GoalsAgainst</th>\n      <th>Attendance</th>\n    </tr>\n  </thead>\n  <tbody>\n    <tr>\n      <th>0</th>\n      <td>Selche FC</td>\n      <td>1</td>\n      <td>1</td>\n      <td>53225</td>\n    </tr>\n    <tr>\n      <th>0</th>\n      <td>Sudaton FC</td>\n      <td>3</td>\n      <td>0</td>\n      <td>53256</td>\n    </tr>\n    <tr>\n      <th>0</th>\n      <td>Ouestjambon United</td>\n      <td>4</td>\n      <td>1</td>\n      <td>53225</td>\n    </tr>\n  </tbody>\n</table>\n</div>"
     },
     "metadata": {},
     "execution_count": 38
    }
   ],
   "source": [
    "AllMatches = pd.concat([match1,match2,match3])\n",
    "AllMatches"
   ]
  },
  {
   "cell_type": "code",
   "execution_count": 39,
   "metadata": {},
   "outputs": [
    {
     "output_type": "execute_result",
     "data": {
      "text/plain": "   First   Last            Opponent\n0  Sally  Billy           Selche FC\n0  Sally    Pip          Sudaton FC\n0  Sally  Sally  Ouestjambon United",
      "text/html": "<div>\n<style scoped>\n    .dataframe tbody tr th:only-of-type {\n        vertical-align: middle;\n    }\n\n    .dataframe tbody tr th {\n        vertical-align: top;\n    }\n\n    .dataframe thead th {\n        text-align: right;\n    }\n</style>\n<table border=\"1\" class=\"dataframe\">\n  <thead>\n    <tr style=\"text-align: right;\">\n      <th></th>\n      <th>First</th>\n      <th>Last</th>\n      <th>Opponent</th>\n    </tr>\n  </thead>\n  <tbody>\n    <tr>\n      <th>0</th>\n      <td>Sally</td>\n      <td>Billy</td>\n      <td>Selche FC</td>\n    </tr>\n    <tr>\n      <th>0</th>\n      <td>Sally</td>\n      <td>Pip</td>\n      <td>Sudaton FC</td>\n    </tr>\n    <tr>\n      <th>0</th>\n      <td>Sally</td>\n      <td>Sally</td>\n      <td>Ouestjambon United</td>\n    </tr>\n  </tbody>\n</table>\n</div>"
     },
     "metadata": {},
     "execution_count": 39
    }
   ],
   "source": [
    "match1scorers = pd.DataFrame({'First':['Sally'],\n",
    "                              'Last':['Billy'],\n",
    "                            'Opponent':['Selche FC']})\n",
    "                      \n",
    "match2scorers = pd.DataFrame({'First':['Sally'],\n",
    "                              'Last':['Pip'],\n",
    "                             'Opponent':['Sudaton FC']})\n",
    "\n",
    "match3scorers = pd.DataFrame({'First':['Sally'],\n",
    "                             'Last':['Sally'],\n",
    "                             'Opponent':['Ouestjambon United']})\n",
    "\n",
    "AllScorers = pd.concat([match1scorers,match2scorers,match3scorers]) \n",
    "AllScorers"
   ]
  },
  {
   "cell_type": "code",
   "execution_count": 40,
   "metadata": {},
   "outputs": [
    {
     "output_type": "execute_result",
     "data": {
      "text/plain": "             Opponent  GoalsFor  GoalsAgainst  Attendance  First   Last\n0           Selche FC         1             1       53225  Sally  Billy\n1          Sudaton FC         3             0       53256  Sally    Pip\n2  Ouestjambon United         4             1       53225  Sally  Sally",
      "text/html": "<div>\n<style scoped>\n    .dataframe tbody tr th:only-of-type {\n        vertical-align: middle;\n    }\n\n    .dataframe tbody tr th {\n        vertical-align: top;\n    }\n\n    .dataframe thead th {\n        text-align: right;\n    }\n</style>\n<table border=\"1\" class=\"dataframe\">\n  <thead>\n    <tr style=\"text-align: right;\">\n      <th></th>\n      <th>Opponent</th>\n      <th>GoalsFor</th>\n      <th>GoalsAgainst</th>\n      <th>Attendance</th>\n      <th>First</th>\n      <th>Last</th>\n    </tr>\n  </thead>\n  <tbody>\n    <tr>\n      <th>0</th>\n      <td>Selche FC</td>\n      <td>1</td>\n      <td>1</td>\n      <td>53225</td>\n      <td>Sally</td>\n      <td>Billy</td>\n    </tr>\n    <tr>\n      <th>1</th>\n      <td>Sudaton FC</td>\n      <td>3</td>\n      <td>0</td>\n      <td>53256</td>\n      <td>Sally</td>\n      <td>Pip</td>\n    </tr>\n    <tr>\n      <th>2</th>\n      <td>Ouestjambon United</td>\n      <td>4</td>\n      <td>1</td>\n      <td>53225</td>\n      <td>Sally</td>\n      <td>Sally</td>\n    </tr>\n  </tbody>\n</table>\n</div>"
     },
     "metadata": {},
     "execution_count": 40
    }
   ],
   "source": [
    "All = pd.merge(AllMatches,AllScorers)\n",
    "All"
   ]
  },
  {
   "cell_type": "code",
   "execution_count": 41,
   "metadata": {},
   "outputs": [
    {
     "output_type": "execute_result",
     "data": {
      "text/plain": "   sofifa_id                                         player_url  \\\n0     158023  https://sofifa.com/player/158023/lionel-messi/...   \n1      20801  https://sofifa.com/player/20801/c-ronaldo-dos-...   \n2     190871  https://sofifa.com/player/190871/neymar-da-sil...   \n3     200389  https://sofifa.com/player/200389/jan-oblak/20/...   \n4     183277  https://sofifa.com/player/183277/eden-hazard/2...   \n\n          short_name                            long_name  age         dob  \\\n0           L. Messi       Lionel Andrés Messi Cuccittini   32  1987-06-24   \n1  Cristiano Ronaldo  Cristiano Ronaldo dos Santos Aveiro   34  1985-02-05   \n2          Neymar Jr        Neymar da Silva Santos Junior   27  1992-02-05   \n3           J. Oblak                            Jan Oblak   26  1993-01-07   \n4          E. Hazard                          Eden Hazard   28  1991-01-07   \n\n   height_cm  weight_kg nationality                 club  ...   lwb   ldm  \\\n0        170         72   Argentina         FC Barcelona  ...  68+2  66+2   \n1        187         83    Portugal             Juventus  ...  65+3  61+3   \n2        175         68      Brazil  Paris Saint-Germain  ...  66+3  61+3   \n3        188         87    Slovenia      Atlético Madrid  ...   NaN   NaN   \n4        175         74     Belgium          Real Madrid  ...  66+3  63+3   \n\n    cdm   rdm   rwb    lb   lcb    cb   rcb    rb  \n0  66+2  66+2  68+2  63+2  52+2  52+2  52+2  63+2  \n1  61+3  61+3  65+3  61+3  53+3  53+3  53+3  61+3  \n2  61+3  61+3  66+3  61+3  46+3  46+3  46+3  61+3  \n3   NaN   NaN   NaN   NaN   NaN   NaN   NaN   NaN  \n4  63+3  63+3  66+3  61+3  49+3  49+3  49+3  61+3  \n\n[5 rows x 104 columns]",
      "text/html": "<div>\n<style scoped>\n    .dataframe tbody tr th:only-of-type {\n        vertical-align: middle;\n    }\n\n    .dataframe tbody tr th {\n        vertical-align: top;\n    }\n\n    .dataframe thead th {\n        text-align: right;\n    }\n</style>\n<table border=\"1\" class=\"dataframe\">\n  <thead>\n    <tr style=\"text-align: right;\">\n      <th></th>\n      <th>sofifa_id</th>\n      <th>player_url</th>\n      <th>short_name</th>\n      <th>long_name</th>\n      <th>age</th>\n      <th>dob</th>\n      <th>height_cm</th>\n      <th>weight_kg</th>\n      <th>nationality</th>\n      <th>club</th>\n      <th>...</th>\n      <th>lwb</th>\n      <th>ldm</th>\n      <th>cdm</th>\n      <th>rdm</th>\n      <th>rwb</th>\n      <th>lb</th>\n      <th>lcb</th>\n      <th>cb</th>\n      <th>rcb</th>\n      <th>rb</th>\n    </tr>\n  </thead>\n  <tbody>\n    <tr>\n      <th>0</th>\n      <td>158023</td>\n      <td>https://sofifa.com/player/158023/lionel-messi/...</td>\n      <td>L. Messi</td>\n      <td>Lionel Andrés Messi Cuccittini</td>\n      <td>32</td>\n      <td>1987-06-24</td>\n      <td>170</td>\n      <td>72</td>\n      <td>Argentina</td>\n      <td>FC Barcelona</td>\n      <td>...</td>\n      <td>68+2</td>\n      <td>66+2</td>\n      <td>66+2</td>\n      <td>66+2</td>\n      <td>68+2</td>\n      <td>63+2</td>\n      <td>52+2</td>\n      <td>52+2</td>\n      <td>52+2</td>\n      <td>63+2</td>\n    </tr>\n    <tr>\n      <th>1</th>\n      <td>20801</td>\n      <td>https://sofifa.com/player/20801/c-ronaldo-dos-...</td>\n      <td>Cristiano Ronaldo</td>\n      <td>Cristiano Ronaldo dos Santos Aveiro</td>\n      <td>34</td>\n      <td>1985-02-05</td>\n      <td>187</td>\n      <td>83</td>\n      <td>Portugal</td>\n      <td>Juventus</td>\n      <td>...</td>\n      <td>65+3</td>\n      <td>61+3</td>\n      <td>61+3</td>\n      <td>61+3</td>\n      <td>65+3</td>\n      <td>61+3</td>\n      <td>53+3</td>\n      <td>53+3</td>\n      <td>53+3</td>\n      <td>61+3</td>\n    </tr>\n    <tr>\n      <th>2</th>\n      <td>190871</td>\n      <td>https://sofifa.com/player/190871/neymar-da-sil...</td>\n      <td>Neymar Jr</td>\n      <td>Neymar da Silva Santos Junior</td>\n      <td>27</td>\n      <td>1992-02-05</td>\n      <td>175</td>\n      <td>68</td>\n      <td>Brazil</td>\n      <td>Paris Saint-Germain</td>\n      <td>...</td>\n      <td>66+3</td>\n      <td>61+3</td>\n      <td>61+3</td>\n      <td>61+3</td>\n      <td>66+3</td>\n      <td>61+3</td>\n      <td>46+3</td>\n      <td>46+3</td>\n      <td>46+3</td>\n      <td>61+3</td>\n    </tr>\n    <tr>\n      <th>3</th>\n      <td>200389</td>\n      <td>https://sofifa.com/player/200389/jan-oblak/20/...</td>\n      <td>J. Oblak</td>\n      <td>Jan Oblak</td>\n      <td>26</td>\n      <td>1993-01-07</td>\n      <td>188</td>\n      <td>87</td>\n      <td>Slovenia</td>\n      <td>Atlético Madrid</td>\n      <td>...</td>\n      <td>NaN</td>\n      <td>NaN</td>\n      <td>NaN</td>\n      <td>NaN</td>\n      <td>NaN</td>\n      <td>NaN</td>\n      <td>NaN</td>\n      <td>NaN</td>\n      <td>NaN</td>\n      <td>NaN</td>\n    </tr>\n    <tr>\n      <th>4</th>\n      <td>183277</td>\n      <td>https://sofifa.com/player/183277/eden-hazard/2...</td>\n      <td>E. Hazard</td>\n      <td>Eden Hazard</td>\n      <td>28</td>\n      <td>1991-01-07</td>\n      <td>175</td>\n      <td>74</td>\n      <td>Belgium</td>\n      <td>Real Madrid</td>\n      <td>...</td>\n      <td>66+3</td>\n      <td>63+3</td>\n      <td>63+3</td>\n      <td>63+3</td>\n      <td>66+3</td>\n      <td>61+3</td>\n      <td>49+3</td>\n      <td>49+3</td>\n      <td>49+3</td>\n      <td>61+3</td>\n    </tr>\n  </tbody>\n</table>\n<p>5 rows × 104 columns</p>\n</div>"
     },
     "metadata": {},
     "execution_count": 41
    }
   ],
   "source": [
    "data = pd.read_csv(\"Data Store/players_20.csv\")\n",
    "data.head()"
   ]
  },
  {
   "cell_type": "code",
   "execution_count": 42,
   "metadata": {},
   "outputs": [
    {
     "output_type": "execute_result",
     "data": {
      "text/plain": "           short_name  wage_eur  value_eur player_positions  overall  age\n37            M. Reus    170000   56000000      CAM, LM, ST       88   30\n49         M. Hummels    130000   41000000               CB       87   30\n102         A. Witsel    110000   31500000          CDM, CM       85   30\n186      Paco Alcácer    105000   32000000               ST       83   25\n270          M. Götze     98000   26000000      CF, CAM, CM       82   27\n118         J. Brandt     94000   40500000      CAM, LM, RM       84   23\n88           R. Bürki     92000   32000000               GK       85   28\n281         T. Hazard     90000   26000000       RM, LM, CF       82   26\n275         N. Schulz     82000   22500000      LWB, LM, LB       82   26\n271        T. Delaney     82000   23000000          CDM, CM       82   27\n357      R. Guerreiro     79000   21500000       LM, LB, CM       81   25\n170         M. Akanji     77000   31000000               CB       83   23\n382       L. Piszczek     76000    6000000               RB       81   34\n446          J. Weigl     61000   17500000          CDM, CB       80   23\n108         J. Sancho     61000   44500000           RM, LM       84   19\n773         M. Dahoud     58000   14000000          CM, CDM       78   23\n1516     M. Schmelzer     53000    5500000               LB       76   31\n933           M. Hitz     49000    6500000               GK       78   31\n585         A. Hakimi     48000   16000000           LB, RB       79   20\n588        D. Zagadou     48000   16000000           CB, LB       79   20\n1736          M. Wolf     43000    8000000       RB, RM, CM       75   24\n1629        J. Larsen     41000   11000000               LM       75   20\n10315  E. Oelschlägel      9000     550000               GK       65   23\n11048      L. Balerdi      9000     925000               CB       64   20\n14741       D. Wanner      7000     450000       LM, LB, LW       60   20\n11044     Mateu Morey      6000     900000               RB       64   19\n16421    P. Osterhage      5000     220000          CM, CDM       57   19\n14666       T. Raschl      4000     425000              CDM       60   19\n15903        A. Bakir      3000     260000       RM, LM, RW       58   18\n15328     K. Bafounta      1000     325000               CM       59   17\n15342     L. Unbehaun      1000     270000               GK       59   18",
      "text/html": "<div>\n<style scoped>\n    .dataframe tbody tr th:only-of-type {\n        vertical-align: middle;\n    }\n\n    .dataframe tbody tr th {\n        vertical-align: top;\n    }\n\n    .dataframe thead th {\n        text-align: right;\n    }\n</style>\n<table border=\"1\" class=\"dataframe\">\n  <thead>\n    <tr style=\"text-align: right;\">\n      <th></th>\n      <th>short_name</th>\n      <th>wage_eur</th>\n      <th>value_eur</th>\n      <th>player_positions</th>\n      <th>overall</th>\n      <th>age</th>\n    </tr>\n  </thead>\n  <tbody>\n    <tr>\n      <th>37</th>\n      <td>M. Reus</td>\n      <td>170000</td>\n      <td>56000000</td>\n      <td>CAM, LM, ST</td>\n      <td>88</td>\n      <td>30</td>\n    </tr>\n    <tr>\n      <th>49</th>\n      <td>M. Hummels</td>\n      <td>130000</td>\n      <td>41000000</td>\n      <td>CB</td>\n      <td>87</td>\n      <td>30</td>\n    </tr>\n    <tr>\n      <th>102</th>\n      <td>A. Witsel</td>\n      <td>110000</td>\n      <td>31500000</td>\n      <td>CDM, CM</td>\n      <td>85</td>\n      <td>30</td>\n    </tr>\n    <tr>\n      <th>186</th>\n      <td>Paco Alcácer</td>\n      <td>105000</td>\n      <td>32000000</td>\n      <td>ST</td>\n      <td>83</td>\n      <td>25</td>\n    </tr>\n    <tr>\n      <th>270</th>\n      <td>M. Götze</td>\n      <td>98000</td>\n      <td>26000000</td>\n      <td>CF, CAM, CM</td>\n      <td>82</td>\n      <td>27</td>\n    </tr>\n    <tr>\n      <th>118</th>\n      <td>J. Brandt</td>\n      <td>94000</td>\n      <td>40500000</td>\n      <td>CAM, LM, RM</td>\n      <td>84</td>\n      <td>23</td>\n    </tr>\n    <tr>\n      <th>88</th>\n      <td>R. Bürki</td>\n      <td>92000</td>\n      <td>32000000</td>\n      <td>GK</td>\n      <td>85</td>\n      <td>28</td>\n    </tr>\n    <tr>\n      <th>281</th>\n      <td>T. Hazard</td>\n      <td>90000</td>\n      <td>26000000</td>\n      <td>RM, LM, CF</td>\n      <td>82</td>\n      <td>26</td>\n    </tr>\n    <tr>\n      <th>275</th>\n      <td>N. Schulz</td>\n      <td>82000</td>\n      <td>22500000</td>\n      <td>LWB, LM, LB</td>\n      <td>82</td>\n      <td>26</td>\n    </tr>\n    <tr>\n      <th>271</th>\n      <td>T. Delaney</td>\n      <td>82000</td>\n      <td>23000000</td>\n      <td>CDM, CM</td>\n      <td>82</td>\n      <td>27</td>\n    </tr>\n    <tr>\n      <th>357</th>\n      <td>R. Guerreiro</td>\n      <td>79000</td>\n      <td>21500000</td>\n      <td>LM, LB, CM</td>\n      <td>81</td>\n      <td>25</td>\n    </tr>\n    <tr>\n      <th>170</th>\n      <td>M. Akanji</td>\n      <td>77000</td>\n      <td>31000000</td>\n      <td>CB</td>\n      <td>83</td>\n      <td>23</td>\n    </tr>\n    <tr>\n      <th>382</th>\n      <td>L. Piszczek</td>\n      <td>76000</td>\n      <td>6000000</td>\n      <td>RB</td>\n      <td>81</td>\n      <td>34</td>\n    </tr>\n    <tr>\n      <th>446</th>\n      <td>J. Weigl</td>\n      <td>61000</td>\n      <td>17500000</td>\n      <td>CDM, CB</td>\n      <td>80</td>\n      <td>23</td>\n    </tr>\n    <tr>\n      <th>108</th>\n      <td>J. Sancho</td>\n      <td>61000</td>\n      <td>44500000</td>\n      <td>RM, LM</td>\n      <td>84</td>\n      <td>19</td>\n    </tr>\n    <tr>\n      <th>773</th>\n      <td>M. Dahoud</td>\n      <td>58000</td>\n      <td>14000000</td>\n      <td>CM, CDM</td>\n      <td>78</td>\n      <td>23</td>\n    </tr>\n    <tr>\n      <th>1516</th>\n      <td>M. Schmelzer</td>\n      <td>53000</td>\n      <td>5500000</td>\n      <td>LB</td>\n      <td>76</td>\n      <td>31</td>\n    </tr>\n    <tr>\n      <th>933</th>\n      <td>M. Hitz</td>\n      <td>49000</td>\n      <td>6500000</td>\n      <td>GK</td>\n      <td>78</td>\n      <td>31</td>\n    </tr>\n    <tr>\n      <th>585</th>\n      <td>A. Hakimi</td>\n      <td>48000</td>\n      <td>16000000</td>\n      <td>LB, RB</td>\n      <td>79</td>\n      <td>20</td>\n    </tr>\n    <tr>\n      <th>588</th>\n      <td>D. Zagadou</td>\n      <td>48000</td>\n      <td>16000000</td>\n      <td>CB, LB</td>\n      <td>79</td>\n      <td>20</td>\n    </tr>\n    <tr>\n      <th>1736</th>\n      <td>M. Wolf</td>\n      <td>43000</td>\n      <td>8000000</td>\n      <td>RB, RM, CM</td>\n      <td>75</td>\n      <td>24</td>\n    </tr>\n    <tr>\n      <th>1629</th>\n      <td>J. Larsen</td>\n      <td>41000</td>\n      <td>11000000</td>\n      <td>LM</td>\n      <td>75</td>\n      <td>20</td>\n    </tr>\n    <tr>\n      <th>10315</th>\n      <td>E. Oelschlägel</td>\n      <td>9000</td>\n      <td>550000</td>\n      <td>GK</td>\n      <td>65</td>\n      <td>23</td>\n    </tr>\n    <tr>\n      <th>11048</th>\n      <td>L. Balerdi</td>\n      <td>9000</td>\n      <td>925000</td>\n      <td>CB</td>\n      <td>64</td>\n      <td>20</td>\n    </tr>\n    <tr>\n      <th>14741</th>\n      <td>D. Wanner</td>\n      <td>7000</td>\n      <td>450000</td>\n      <td>LM, LB, LW</td>\n      <td>60</td>\n      <td>20</td>\n    </tr>\n    <tr>\n      <th>11044</th>\n      <td>Mateu Morey</td>\n      <td>6000</td>\n      <td>900000</td>\n      <td>RB</td>\n      <td>64</td>\n      <td>19</td>\n    </tr>\n    <tr>\n      <th>16421</th>\n      <td>P. Osterhage</td>\n      <td>5000</td>\n      <td>220000</td>\n      <td>CM, CDM</td>\n      <td>57</td>\n      <td>19</td>\n    </tr>\n    <tr>\n      <th>14666</th>\n      <td>T. Raschl</td>\n      <td>4000</td>\n      <td>425000</td>\n      <td>CDM</td>\n      <td>60</td>\n      <td>19</td>\n    </tr>\n    <tr>\n      <th>15903</th>\n      <td>A. Bakir</td>\n      <td>3000</td>\n      <td>260000</td>\n      <td>RM, LM, RW</td>\n      <td>58</td>\n      <td>18</td>\n    </tr>\n    <tr>\n      <th>15328</th>\n      <td>K. Bafounta</td>\n      <td>1000</td>\n      <td>325000</td>\n      <td>CM</td>\n      <td>59</td>\n      <td>17</td>\n    </tr>\n    <tr>\n      <th>15342</th>\n      <td>L. Unbehaun</td>\n      <td>1000</td>\n      <td>270000</td>\n      <td>GK</td>\n      <td>59</td>\n      <td>18</td>\n    </tr>\n  </tbody>\n</table>\n</div>"
     },
     "metadata": {},
     "execution_count": 42
    }
   ],
   "source": [
    "def club(teamName):\n",
    "    return data[data[\"club\"] == teamName][['short_name','wage_eur','value_eur','player_positions','overall','age']]\n",
    "\n",
    "club(\"Borussia Dortmund\").sort_values(\"wage_eur\", ascending=False)"
   ]
  },
  {
   "cell_type": "code",
   "execution_count": 43,
   "metadata": {},
   "outputs": [
    {
     "output_type": "execute_result",
     "data": {
      "text/plain": "   short_name  wage_eur  value_eur player_positions  overall  age\n88   R. Bürki     92000   32000000               GK       85   28",
      "text/html": "<div>\n<style scoped>\n    .dataframe tbody tr th:only-of-type {\n        vertical-align: middle;\n    }\n\n    .dataframe tbody tr th {\n        vertical-align: top;\n    }\n\n    .dataframe thead th {\n        text-align: right;\n    }\n</style>\n<table border=\"1\" class=\"dataframe\">\n  <thead>\n    <tr style=\"text-align: right;\">\n      <th></th>\n      <th>short_name</th>\n      <th>wage_eur</th>\n      <th>value_eur</th>\n      <th>player_positions</th>\n      <th>overall</th>\n      <th>age</th>\n    </tr>\n  </thead>\n  <tbody>\n    <tr>\n      <th>88</th>\n      <td>R. Bürki</td>\n      <td>92000</td>\n      <td>32000000</td>\n      <td>GK</td>\n      <td>85</td>\n      <td>28</td>\n    </tr>\n  </tbody>\n</table>\n</div>"
     },
     "metadata": {},
     "execution_count": 43
    }
   ],
   "source": [
    "Burki = data[data[\"short_name\"] == \"R. Bürki\"][['short_name','wage_eur','value_eur','player_positions','overall','age']]\n",
    "Burki"
   ]
  },
  {
   "cell_type": "code",
   "execution_count": 44,
   "metadata": {},
   "outputs": [],
   "source": [
    "Burki_wage = Burki[\"wage_eur\"].item()\n",
    "Burki_pos = Burki[\"player_positions\"].item()\n",
    "Burki_ovr = Burki[\"overall\"].item()\n",
    "Burki_age = Burki['age'].item()"
   ]
  },
  {
   "cell_type": "code",
   "execution_count": 46,
   "metadata": {},
   "outputs": [
    {
     "output_type": "execute_result",
     "data": {
      "text/plain": "       short_name  wage_eur  value_eur player_positions  overall  age\n74  G. Donnarumma     34000   41500000               GK       85   20\n86       A. Lopes     88000   33500000               GK       85   28\n88       R. Bürki     92000   32000000               GK       85   28",
      "text/html": "<div>\n<style scoped>\n    .dataframe tbody tr th:only-of-type {\n        vertical-align: middle;\n    }\n\n    .dataframe tbody tr th {\n        vertical-align: top;\n    }\n\n    .dataframe thead th {\n        text-align: right;\n    }\n</style>\n<table border=\"1\" class=\"dataframe\">\n  <thead>\n    <tr style=\"text-align: right;\">\n      <th></th>\n      <th>short_name</th>\n      <th>wage_eur</th>\n      <th>value_eur</th>\n      <th>player_positions</th>\n      <th>overall</th>\n      <th>age</th>\n    </tr>\n  </thead>\n  <tbody>\n    <tr>\n      <th>74</th>\n      <td>G. Donnarumma</td>\n      <td>34000</td>\n      <td>41500000</td>\n      <td>GK</td>\n      <td>85</td>\n      <td>20</td>\n    </tr>\n    <tr>\n      <th>86</th>\n      <td>A. Lopes</td>\n      <td>88000</td>\n      <td>33500000</td>\n      <td>GK</td>\n      <td>85</td>\n      <td>28</td>\n    </tr>\n    <tr>\n      <th>88</th>\n      <td>R. Bürki</td>\n      <td>92000</td>\n      <td>32000000</td>\n      <td>GK</td>\n      <td>85</td>\n      <td>28</td>\n    </tr>\n  </tbody>\n</table>\n</div>"
     },
     "metadata": {},
     "execution_count": 46
    }
   ],
   "source": [
    "longlist = data[data['player_positions'] == Burki_pos][['short_name','wage_eur','value_eur','player_positions','overall','age']]\n",
    "\n",
    "removals = longlist[(longlist[\"overall\"]<Burki_ovr) | (longlist[\"wage_eur\"]>Burki_wage) | (longlist[\"age\"]>Burki_age)].index\n",
    "longlist.drop(removals , inplace=True)\n",
    "\n",
    "longlist.sort_values(\"wage_eur\")"
   ]
  },
  {
   "cell_type": "code",
   "execution_count": 47,
   "metadata": {},
   "outputs": [
    {
     "output_type": "execute_result",
     "data": {
      "text/plain": "           short_name  wage_eur  value_eur player_positions  overall  age\n549           Ismaily      1000   12000000               LB       80   29\n1585         Sequeira     14000    6500000               LB       76   28\n1012         Reguilón     14000   11500000               LB       77   22\n174          Grimaldo     18000   29500000               LB       83   23\n1336     Rubén Duarte     18000    9000000               LB       76   23\n1578          E. Mena     19000    6000000               LB       76   30\n1235            Nacho     20000    7000000               LB       77   30\n1329  L. Augustinsson     23000    9000000               LB       76   25\n1324     T. Hernández     23000    9500000               LB       76   21\n124       Alex Telles     23000   33000000               LB       84   26\n778      Aarón Martín     24000   12500000               LB       78   22\n972          F. Fabra     25000    9000000               LB       78   28\n1108  M. Plattenhardt     26000    9000000               LB       77   27\n705              Cote     27000   10500000               LB       79   29\n692    Yuri Berchiche     27000   10500000               LB       79   29\n1411   Alberto Moreno     27000    8000000               LB       76   26\n266     N. Tagliafico     27000   23500000               LB       82   26\n1362        C. Taylor     29000    8500000               LB       76   25\n1013       Renan Lodi     31000   12000000               LB       77   21\n941       Jaume Costa     33000    7500000               LB       78   31\n339              Gayà     35000   21000000               LB       81   24\n1381          Dalbert     45000    8500000               LB       76   25\n1504   P. van Aanholt     46000    6500000               LB       76   28\n1084          Wendell     47000   10000000               LB       77   25\n1261       K. Tierney     52000   11000000               LB       76   22\n1426      H. Kaldırım     53000    6500000               LB       76   29\n483    M. Halstenberg     53000   14500000               LB       80   27",
      "text/html": "<div>\n<style scoped>\n    .dataframe tbody tr th:only-of-type {\n        vertical-align: middle;\n    }\n\n    .dataframe tbody tr th {\n        vertical-align: top;\n    }\n\n    .dataframe thead th {\n        text-align: right;\n    }\n</style>\n<table border=\"1\" class=\"dataframe\">\n  <thead>\n    <tr style=\"text-align: right;\">\n      <th></th>\n      <th>short_name</th>\n      <th>wage_eur</th>\n      <th>value_eur</th>\n      <th>player_positions</th>\n      <th>overall</th>\n      <th>age</th>\n    </tr>\n  </thead>\n  <tbody>\n    <tr>\n      <th>549</th>\n      <td>Ismaily</td>\n      <td>1000</td>\n      <td>12000000</td>\n      <td>LB</td>\n      <td>80</td>\n      <td>29</td>\n    </tr>\n    <tr>\n      <th>1585</th>\n      <td>Sequeira</td>\n      <td>14000</td>\n      <td>6500000</td>\n      <td>LB</td>\n      <td>76</td>\n      <td>28</td>\n    </tr>\n    <tr>\n      <th>1012</th>\n      <td>Reguilón</td>\n      <td>14000</td>\n      <td>11500000</td>\n      <td>LB</td>\n      <td>77</td>\n      <td>22</td>\n    </tr>\n    <tr>\n      <th>174</th>\n      <td>Grimaldo</td>\n      <td>18000</td>\n      <td>29500000</td>\n      <td>LB</td>\n      <td>83</td>\n      <td>23</td>\n    </tr>\n    <tr>\n      <th>1336</th>\n      <td>Rubén Duarte</td>\n      <td>18000</td>\n      <td>9000000</td>\n      <td>LB</td>\n      <td>76</td>\n      <td>23</td>\n    </tr>\n    <tr>\n      <th>1578</th>\n      <td>E. Mena</td>\n      <td>19000</td>\n      <td>6000000</td>\n      <td>LB</td>\n      <td>76</td>\n      <td>30</td>\n    </tr>\n    <tr>\n      <th>1235</th>\n      <td>Nacho</td>\n      <td>20000</td>\n      <td>7000000</td>\n      <td>LB</td>\n      <td>77</td>\n      <td>30</td>\n    </tr>\n    <tr>\n      <th>1329</th>\n      <td>L. Augustinsson</td>\n      <td>23000</td>\n      <td>9000000</td>\n      <td>LB</td>\n      <td>76</td>\n      <td>25</td>\n    </tr>\n    <tr>\n      <th>1324</th>\n      <td>T. Hernández</td>\n      <td>23000</td>\n      <td>9500000</td>\n      <td>LB</td>\n      <td>76</td>\n      <td>21</td>\n    </tr>\n    <tr>\n      <th>124</th>\n      <td>Alex Telles</td>\n      <td>23000</td>\n      <td>33000000</td>\n      <td>LB</td>\n      <td>84</td>\n      <td>26</td>\n    </tr>\n    <tr>\n      <th>778</th>\n      <td>Aarón Martín</td>\n      <td>24000</td>\n      <td>12500000</td>\n      <td>LB</td>\n      <td>78</td>\n      <td>22</td>\n    </tr>\n    <tr>\n      <th>972</th>\n      <td>F. Fabra</td>\n      <td>25000</td>\n      <td>9000000</td>\n      <td>LB</td>\n      <td>78</td>\n      <td>28</td>\n    </tr>\n    <tr>\n      <th>1108</th>\n      <td>M. Plattenhardt</td>\n      <td>26000</td>\n      <td>9000000</td>\n      <td>LB</td>\n      <td>77</td>\n      <td>27</td>\n    </tr>\n    <tr>\n      <th>705</th>\n      <td>Cote</td>\n      <td>27000</td>\n      <td>10500000</td>\n      <td>LB</td>\n      <td>79</td>\n      <td>29</td>\n    </tr>\n    <tr>\n      <th>692</th>\n      <td>Yuri Berchiche</td>\n      <td>27000</td>\n      <td>10500000</td>\n      <td>LB</td>\n      <td>79</td>\n      <td>29</td>\n    </tr>\n    <tr>\n      <th>1411</th>\n      <td>Alberto Moreno</td>\n      <td>27000</td>\n      <td>8000000</td>\n      <td>LB</td>\n      <td>76</td>\n      <td>26</td>\n    </tr>\n    <tr>\n      <th>266</th>\n      <td>N. Tagliafico</td>\n      <td>27000</td>\n      <td>23500000</td>\n      <td>LB</td>\n      <td>82</td>\n      <td>26</td>\n    </tr>\n    <tr>\n      <th>1362</th>\n      <td>C. Taylor</td>\n      <td>29000</td>\n      <td>8500000</td>\n      <td>LB</td>\n      <td>76</td>\n      <td>25</td>\n    </tr>\n    <tr>\n      <th>1013</th>\n      <td>Renan Lodi</td>\n      <td>31000</td>\n      <td>12000000</td>\n      <td>LB</td>\n      <td>77</td>\n      <td>21</td>\n    </tr>\n    <tr>\n      <th>941</th>\n      <td>Jaume Costa</td>\n      <td>33000</td>\n      <td>7500000</td>\n      <td>LB</td>\n      <td>78</td>\n      <td>31</td>\n    </tr>\n    <tr>\n      <th>339</th>\n      <td>Gayà</td>\n      <td>35000</td>\n      <td>21000000</td>\n      <td>LB</td>\n      <td>81</td>\n      <td>24</td>\n    </tr>\n    <tr>\n      <th>1381</th>\n      <td>Dalbert</td>\n      <td>45000</td>\n      <td>8500000</td>\n      <td>LB</td>\n      <td>76</td>\n      <td>25</td>\n    </tr>\n    <tr>\n      <th>1504</th>\n      <td>P. van Aanholt</td>\n      <td>46000</td>\n      <td>6500000</td>\n      <td>LB</td>\n      <td>76</td>\n      <td>28</td>\n    </tr>\n    <tr>\n      <th>1084</th>\n      <td>Wendell</td>\n      <td>47000</td>\n      <td>10000000</td>\n      <td>LB</td>\n      <td>77</td>\n      <td>25</td>\n    </tr>\n    <tr>\n      <th>1261</th>\n      <td>K. Tierney</td>\n      <td>52000</td>\n      <td>11000000</td>\n      <td>LB</td>\n      <td>76</td>\n      <td>22</td>\n    </tr>\n    <tr>\n      <th>1426</th>\n      <td>H. Kaldırım</td>\n      <td>53000</td>\n      <td>6500000</td>\n      <td>LB</td>\n      <td>76</td>\n      <td>29</td>\n    </tr>\n    <tr>\n      <th>483</th>\n      <td>M. Halstenberg</td>\n      <td>53000</td>\n      <td>14500000</td>\n      <td>LB</td>\n      <td>80</td>\n      <td>27</td>\n    </tr>\n  </tbody>\n</table>\n</div>"
     },
     "metadata": {},
     "execution_count": 47
    }
   ],
   "source": [
    "def cheap_replacement(player_name):\n",
    "    player = data[data[\"short_name\"] == player_name][['short_name','wage_eur','value_eur','player_positions','overall','age']]\n",
    "\n",
    "    wage = player[\"wage_eur\"].item()\n",
    "    pos = player[\"player_positions\"].item()\n",
    "    ovr = player[\"overall\"].item()\n",
    "    age = player['age'].item()\n",
    "\n",
    "    longlist = data[data['player_positions'] == pos][['short_name','wage_eur','value_eur','player_positions','overall','age']]\n",
    "\n",
    "    removals = longlist[(longlist[\"overall\"]<ovr) | (longlist[\"wage_eur\"]>wage) | (longlist[\"age\"]>age) | (longlist[\"short_name\"] == player_name)].index\n",
    "    longlist.drop(removals , inplace=True)\n",
    "\n",
    "    return longlist.sort_values(\"wage_eur\")\n",
    "\n",
    "cheap_replacement(\"M. Schmelzer\")"
   ]
  },
  {
   "cell_type": "code",
   "execution_count": 48,
   "metadata": {},
   "outputs": [
    {
     "output_type": "execute_result",
     "data": {
      "text/plain": "         Date        HomeTeam    AwayTeam  FTHG  FTAG     Referee\n0  13/08/2016         Burnley     Swansea     0     1      J Moss\n1  13/08/2016  Crystal Palace   West Brom     0     1    C Pawson\n2  13/08/2016         Everton   Tottenham     1     1  M Atkinson\n3  13/08/2016            Hull   Leicester     2     1      M Dean\n4  13/08/2016        Man City  Sunderland     2     1    R Madley",
      "text/html": "<div>\n<style scoped>\n    .dataframe tbody tr th:only-of-type {\n        vertical-align: middle;\n    }\n\n    .dataframe tbody tr th {\n        vertical-align: top;\n    }\n\n    .dataframe thead th {\n        text-align: right;\n    }\n</style>\n<table border=\"1\" class=\"dataframe\">\n  <thead>\n    <tr style=\"text-align: right;\">\n      <th></th>\n      <th>Date</th>\n      <th>HomeTeam</th>\n      <th>AwayTeam</th>\n      <th>FTHG</th>\n      <th>FTAG</th>\n      <th>Referee</th>\n    </tr>\n  </thead>\n  <tbody>\n    <tr>\n      <th>0</th>\n      <td>13/08/2016</td>\n      <td>Burnley</td>\n      <td>Swansea</td>\n      <td>0</td>\n      <td>1</td>\n      <td>J Moss</td>\n    </tr>\n    <tr>\n      <th>1</th>\n      <td>13/08/2016</td>\n      <td>Crystal Palace</td>\n      <td>West Brom</td>\n      <td>0</td>\n      <td>1</td>\n      <td>C Pawson</td>\n    </tr>\n    <tr>\n      <th>2</th>\n      <td>13/08/2016</td>\n      <td>Everton</td>\n      <td>Tottenham</td>\n      <td>1</td>\n      <td>1</td>\n      <td>M Atkinson</td>\n    </tr>\n    <tr>\n      <th>3</th>\n      <td>13/08/2016</td>\n      <td>Hull</td>\n      <td>Leicester</td>\n      <td>2</td>\n      <td>1</td>\n      <td>M Dean</td>\n    </tr>\n    <tr>\n      <th>4</th>\n      <td>13/08/2016</td>\n      <td>Man City</td>\n      <td>Sunderland</td>\n      <td>2</td>\n      <td>1</td>\n      <td>R Madley</td>\n    </tr>\n  </tbody>\n</table>\n</div>"
     },
     "metadata": {},
     "execution_count": 48
    }
   ],
   "source": [
    "df = pd.read_csv(\"Data Store/Results.csv\")\n",
    "\n",
    "df.head()"
   ]
  },
  {
   "cell_type": "code",
   "execution_count": 49,
   "metadata": {},
   "outputs": [
    {
     "output_type": "stream",
     "name": "stdout",
     "text": "['Burnley' 'Crystal Palace' 'Everton' 'Hull' 'Man City' 'Middlesbrough'\n 'Southampton' 'Arsenal' 'Bournemouth' 'Chelsea' 'Man United' 'Leicester'\n 'Stoke' 'Swansea' 'Tottenham' 'Watford' 'West Brom' 'Sunderland'\n 'West Ham' 'Liverpool']\n"
    }
   ],
   "source": [
    "\n",
    "print(df[\"HomeTeam\"].unique())"
   ]
  },
  {
   "cell_type": "code",
   "execution_count": 50,
   "metadata": {},
   "outputs": [
    {
     "output_type": "execute_result",
     "data": {
      "text/plain": "         Date        HomeTeam    AwayTeam  FTHG  FTAG\n0  13/08/2016         Burnley     Swansea     0     1\n1  13/08/2016  Crystal Palace   West Brom     0     1\n2  13/08/2016         Everton   Tottenham     1     1\n3  13/08/2016            Hull   Leicester     2     1\n4  13/08/2016        Man City  Sunderland     2     1",
      "text/html": "<div>\n<style scoped>\n    .dataframe tbody tr th:only-of-type {\n        vertical-align: middle;\n    }\n\n    .dataframe tbody tr th {\n        vertical-align: top;\n    }\n\n    .dataframe thead th {\n        text-align: right;\n    }\n</style>\n<table border=\"1\" class=\"dataframe\">\n  <thead>\n    <tr style=\"text-align: right;\">\n      <th></th>\n      <th>Date</th>\n      <th>HomeTeam</th>\n      <th>AwayTeam</th>\n      <th>FTHG</th>\n      <th>FTAG</th>\n    </tr>\n  </thead>\n  <tbody>\n    <tr>\n      <th>0</th>\n      <td>13/08/2016</td>\n      <td>Burnley</td>\n      <td>Swansea</td>\n      <td>0</td>\n      <td>1</td>\n    </tr>\n    <tr>\n      <th>1</th>\n      <td>13/08/2016</td>\n      <td>Crystal Palace</td>\n      <td>West Brom</td>\n      <td>0</td>\n      <td>1</td>\n    </tr>\n    <tr>\n      <th>2</th>\n      <td>13/08/2016</td>\n      <td>Everton</td>\n      <td>Tottenham</td>\n      <td>1</td>\n      <td>1</td>\n    </tr>\n    <tr>\n      <th>3</th>\n      <td>13/08/2016</td>\n      <td>Hull</td>\n      <td>Leicester</td>\n      <td>2</td>\n      <td>1</td>\n    </tr>\n    <tr>\n      <th>4</th>\n      <td>13/08/2016</td>\n      <td>Man City</td>\n      <td>Sunderland</td>\n      <td>2</td>\n      <td>1</td>\n    </tr>\n  </tbody>\n</table>\n</div>"
     },
     "metadata": {},
     "execution_count": 50
    }
   ],
   "source": [
    "del df[\"Referee\"]\n",
    "\n",
    "df.head()"
   ]
  },
  {
   "cell_type": "code",
   "execution_count": 51,
   "metadata": {},
   "outputs": [
    {
     "output_type": "execute_result",
     "data": {
      "text/plain": "         Date        HomeTeam    AwayTeam  FTHG  FTAG  Result WhoWin\n0  13/08/2016         Burnley     Swansea     0     1      -1   Away\n1  13/08/2016  Crystal Palace   West Brom     0     1      -1   Away\n2  13/08/2016         Everton   Tottenham     1     1       0    Tie\n3  13/08/2016            Hull   Leicester     2     1       1   Home\n4  13/08/2016        Man City  Sunderland     2     1       1   Home",
      "text/html": "<div>\n<style scoped>\n    .dataframe tbody tr th:only-of-type {\n        vertical-align: middle;\n    }\n\n    .dataframe tbody tr th {\n        vertical-align: top;\n    }\n\n    .dataframe thead th {\n        text-align: right;\n    }\n</style>\n<table border=\"1\" class=\"dataframe\">\n  <thead>\n    <tr style=\"text-align: right;\">\n      <th></th>\n      <th>Date</th>\n      <th>HomeTeam</th>\n      <th>AwayTeam</th>\n      <th>FTHG</th>\n      <th>FTAG</th>\n      <th>Result</th>\n      <th>WhoWin</th>\n    </tr>\n  </thead>\n  <tbody>\n    <tr>\n      <th>0</th>\n      <td>13/08/2016</td>\n      <td>Burnley</td>\n      <td>Swansea</td>\n      <td>0</td>\n      <td>1</td>\n      <td>-1</td>\n      <td>Away</td>\n    </tr>\n    <tr>\n      <th>1</th>\n      <td>13/08/2016</td>\n      <td>Crystal Palace</td>\n      <td>West Brom</td>\n      <td>0</td>\n      <td>1</td>\n      <td>-1</td>\n      <td>Away</td>\n    </tr>\n    <tr>\n      <th>2</th>\n      <td>13/08/2016</td>\n      <td>Everton</td>\n      <td>Tottenham</td>\n      <td>1</td>\n      <td>1</td>\n      <td>0</td>\n      <td>Tie</td>\n    </tr>\n    <tr>\n      <th>3</th>\n      <td>13/08/2016</td>\n      <td>Hull</td>\n      <td>Leicester</td>\n      <td>2</td>\n      <td>1</td>\n      <td>1</td>\n      <td>Home</td>\n    </tr>\n    <tr>\n      <th>4</th>\n      <td>13/08/2016</td>\n      <td>Man City</td>\n      <td>Sunderland</td>\n      <td>2</td>\n      <td>1</td>\n      <td>1</td>\n      <td>Home</td>\n    </tr>\n  </tbody>\n</table>\n</div>"
     },
     "metadata": {},
     "execution_count": 51
    }
   ],
   "source": [
    "df['Result'] = df[\"FTHG\"] - df[\"FTAG\"]\n",
    "\n",
    "def find_winner(value):\n",
    "    if value>0:\n",
    "        return(\"Home\")\n",
    "    elif value == 0:\n",
    "        return(\"Tie\")\n",
    "    else:\n",
    "        return(\"Away\")\n",
    "\n",
    "df['WhoWin'] = df['Result'].apply(find_winner)\n",
    "\n",
    "df.head()"
   ]
  },
  {
   "cell_type": "code",
   "execution_count": 52,
   "metadata": {},
   "outputs": [
    {
     "output_type": "execute_result",
     "data": {
      "text/plain": "            FTHG      FTAG    Result\nWhoWin                              \nAway    0.568807  2.504587 -1.935780\nHome    2.497326  0.566845  1.930481\nTie     0.928571  0.928571  0.000000",
      "text/html": "<div>\n<style scoped>\n    .dataframe tbody tr th:only-of-type {\n        vertical-align: middle;\n    }\n\n    .dataframe tbody tr th {\n        vertical-align: top;\n    }\n\n    .dataframe thead th {\n        text-align: right;\n    }\n</style>\n<table border=\"1\" class=\"dataframe\">\n  <thead>\n    <tr style=\"text-align: right;\">\n      <th></th>\n      <th>FTHG</th>\n      <th>FTAG</th>\n      <th>Result</th>\n    </tr>\n    <tr>\n      <th>WhoWin</th>\n      <th></th>\n      <th></th>\n      <th></th>\n    </tr>\n  </thead>\n  <tbody>\n    <tr>\n      <th>Away</th>\n      <td>0.568807</td>\n      <td>2.504587</td>\n      <td>-1.935780</td>\n    </tr>\n    <tr>\n      <th>Home</th>\n      <td>2.497326</td>\n      <td>0.566845</td>\n      <td>1.930481</td>\n    </tr>\n    <tr>\n      <th>Tie</th>\n      <td>0.928571</td>\n      <td>0.928571</td>\n      <td>0.000000</td>\n    </tr>\n  </tbody>\n</table>\n</div>"
     },
     "metadata": {},
     "execution_count": 52
    }
   ],
   "source": [
    "df.groupby(\"WhoWin\").mean()"
   ]
  },
  {
   "cell_type": "code",
   "execution_count": 53,
   "metadata": {},
   "outputs": [
    {
     "output_type": "execute_result",
     "data": {
      "text/plain": "HomeTeam\nChelsea           3.789474\nBournemouth       3.368421\nLiverpool         3.315789\nHull              3.315789\nSwansea           3.210526\nEverton           3.052632\nTottenham         2.947368\nLeicester         2.947368\nArsenal           2.894737\nMan City          2.842105\nWatford           2.842105\nSunderland        2.631579\nWest Ham          2.631579\nWest Brom         2.578947\nCrystal Palace    2.578947\nStoke             2.526316\nBurnley           2.421053\nMiddlesbrough     2.105263\nMan United        2.000000\nSouthampton       2.000000\nName: TotalGoals, dtype: float64"
     },
     "metadata": {},
     "execution_count": 53
    }
   ],
   "source": [
    "df['TotalGoals'] = df['FTHG'] + df['FTAG']\n",
    "\n",
    "df.groupby(\"HomeTeam\").mean()[\"TotalGoals\"].sort_values(ascending=False)"
   ]
  },
  {
   "cell_type": "code",
   "execution_count": 54,
   "metadata": {},
   "outputs": [
    {
     "output_type": "execute_result",
     "data": {
      "text/plain": "AwayTeam\nArsenal           3.473684\nMan City          3.421053\nCrystal Palace    3.368421\nWest Ham          3.210526\nBournemouth       3.052632\nLiverpool         3.000000\nTottenham         2.947368\nLeicester         2.894737\nHull              2.842105\nSwansea           2.842105\nWatford           2.842105\nSouthampton       2.684211\nStoke             2.578947\nEverton           2.526316\nSunderland        2.526316\nBurnley           2.526316\nChelsea           2.421053\nMan United        2.368421\nWest Brom         2.368421\nMiddlesbrough     2.105263\nName: TotalGoals, dtype: float64"
     },
     "metadata": {},
     "execution_count": 54
    }
   ],
   "source": [
    "df.groupby(\"AwayTeam\").mean()[\"TotalGoals\"].sort_values(ascending=False)"
   ]
  },
  {
   "cell_type": "code",
   "execution_count": null,
   "metadata": {},
   "outputs": [],
   "source": []
  }
 ]
}